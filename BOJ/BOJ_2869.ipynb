{
 "cells": [
  {
   "cell_type": "markdown",
   "id": "6549faa8-85ca-4eac-891c-a0efca1b04af",
   "metadata": {},
   "source": [
    "- 하루에 A-B만큼 올라감\n",
    "- 올라가야할 길이는 V-B : An - B(n-1) = V -> n = (V-B) / (A-B)"
   ]
  },
  {
   "cell_type": "code",
   "execution_count": 2,
   "id": "8471e27d-1f5c-456f-8c1c-d8275825d375",
   "metadata": {},
   "outputs": [
    {
     "name": "stdin",
     "output_type": "stream",
     "text": [
      " 2 1 5\n"
     ]
    },
    {
     "name": "stdout",
     "output_type": "stream",
     "text": [
      "4\n"
     ]
    }
   ],
   "source": [
    "A,B,V = map(int, input().split())\n",
    "\n",
    "if (V-B) % (A-B) == 0 :\n",
    "    print((V-B) // (A-B))\n",
    "else :\n",
    "    print(((V-B) // (A-B)) +1)"
   ]
  }
 ],
 "metadata": {
  "kernelspec": {
   "display_name": "Python 3 (ipykernel)",
   "language": "python",
   "name": "python3"
  },
  "language_info": {
   "codemirror_mode": {
    "name": "ipython",
    "version": 3
   },
   "file_extension": ".py",
   "mimetype": "text/x-python",
   "name": "python",
   "nbconvert_exporter": "python",
   "pygments_lexer": "ipython3",
   "version": "3.9.7"
  }
 },
 "nbformat": 4,
 "nbformat_minor": 5
}

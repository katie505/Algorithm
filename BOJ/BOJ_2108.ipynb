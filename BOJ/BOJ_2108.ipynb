{
 "cells": [
  {
   "cell_type": "code",
   "execution_count": 9,
   "id": "96c2bc70-04ab-47f6-a2f2-b396fd4c781b",
   "metadata": {},
   "outputs": [
    {
     "name": "stdin",
     "output_type": "stream",
     "text": [
      " 5\n",
      " 1\n",
      " 3\n",
      " 8\n",
      " -2\n",
      " 2\n"
     ]
    },
    {
     "name": "stdout",
     "output_type": "stream",
     "text": [
      "2\n",
      "2\n",
      "1\n",
      "10\n"
     ]
    }
   ],
   "source": [
    "from collections import Counter\n",
    "\n",
    "N = int(input())\n",
    "nums = [int(input()) for _ in range(N)]\n",
    "\n",
    "nums.sort()\n",
    "\n",
    "def most_value(data):\n",
    "    cnt = Counter(data).most_common(2)\n",
    "    \n",
    "    if len(data) > 1:\n",
    "        if cnt[0][1] == cnt[1][1]:\n",
    "            print(cnt[1][0])\n",
    "        else:\n",
    "            print(cnt[0][0])\n",
    "    \n",
    "    \n",
    "print(round(sum(nums) / N))\n",
    "print(nums[len(nums) // 2])\n",
    "most_value(nums)\n",
    "print(nums[-1] - nums[0])"
   ]
  }
 ],
 "metadata": {
  "kernelspec": {
   "display_name": "Python 3 (ipykernel)",
   "language": "python",
   "name": "python3"
  },
  "language_info": {
   "codemirror_mode": {
    "name": "ipython",
    "version": 3
   },
   "file_extension": ".py",
   "mimetype": "text/x-python",
   "name": "python",
   "nbconvert_exporter": "python",
   "pygments_lexer": "ipython3",
   "version": "3.9.7"
  }
 },
 "nbformat": 4,
 "nbformat_minor": 5
}

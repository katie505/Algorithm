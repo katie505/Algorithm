{
 "cells": [
  {
   "cell_type": "code",
   "execution_count": null,
   "id": "c543e47c-0eac-4dc3-86ef-f9045b2905f3",
   "metadata": {},
   "outputs": [],
   "source": [
    "import sys\n",
    "input = sys.stdin.readline\n",
    "\n",
    "N = int(input())\n",
    "members = []\n",
    "\n",
    "for _ in range(N):\n",
    "    age, name = input().split()\n",
    "    age = int(age)\n",
    "    members.append([age, name])\n",
    "\n",
    "members.sort(key = lambda x : x[0])\n",
    "\n",
    "for member in members:\n",
    "    print(member[0], member[1])"
   ]
  },
  {
   "cell_type": "code",
   "execution_count": 6,
   "id": "f9226427-6b05-4dd8-8273-2894a201e122",
   "metadata": {},
   "outputs": [
    {
     "name": "stdin",
     "output_type": "stream",
     "text": [
      " 3\n",
      " 21 Junkyu\n",
      " 21 Dohyun\n",
      " 20 Sunyoung\n"
     ]
    },
    {
     "name": "stdout",
     "output_type": "stream",
     "text": [
      "20 Sunyoung\n",
      "21 Junkyu\n",
      "21 Dohyun\n"
     ]
    }
   ],
   "source": [
    "N = int(input())\n",
    "members = []\n",
    "\n",
    "for _ in range(N):\n",
    "    age, name = input().split()\n",
    "    age = int(age)\n",
    "    members.append([age, name])\n",
    "\n",
    "members.sort(key = lambda x : x[0])\n",
    "\n",
    "for member in members:\n",
    "    print(member[0], member[1])"
   ]
  }
 ],
 "metadata": {
  "kernelspec": {
   "display_name": "Python 3 (ipykernel)",
   "language": "python",
   "name": "python3"
  },
  "language_info": {
   "codemirror_mode": {
    "name": "ipython",
    "version": 3
   },
   "file_extension": ".py",
   "mimetype": "text/x-python",
   "name": "python",
   "nbconvert_exporter": "python",
   "pygments_lexer": "ipython3",
   "version": "3.9.7"
  }
 },
 "nbformat": 4,
 "nbformat_minor": 5
}

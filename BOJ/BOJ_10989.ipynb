{
 "cells": [
  {
   "cell_type": "markdown",
   "id": "b2e9d551-27af-4076-a52c-6f1903b0e9dc",
   "metadata": {},
   "source": [
    "- 2750과 2751보다 N의 범위가 더 넓음\n",
    "    - 1 <= N <= 10,000,000"
   ]
  },
  {
   "cell_type": "code",
   "execution_count": null,
   "id": "4170f166-c394-4ec6-9799-a4d6b371c3fa",
   "metadata": {},
   "outputs": [],
   "source": [
    "import sys\n",
    "\n",
    "N = int(sys.stdin.readline())\n",
    "num_list = [0] * 10001\n",
    "\n",
    "# 입력한 숫자를 인덱스로 하고 값은 해당 숫자의 개수\n",
    "for _ in range(N):\n",
    "    num_list[int(sys.stdin.readline())] += 1 \n",
    "\n",
    "for i in range(10001):\n",
    "    if num_list[i] != 0:\n",
    "        for j in range(num_list[i]): # 해당 숫자를 개수만큼 출력\n",
    "            print(i)"
   ]
  }
 ],
 "metadata": {
  "kernelspec": {
   "display_name": "Python 3 (ipykernel)",
   "language": "python",
   "name": "python3"
  },
  "language_info": {
   "codemirror_mode": {
    "name": "ipython",
    "version": 3
   },
   "file_extension": ".py",
   "mimetype": "text/x-python",
   "name": "python",
   "nbconvert_exporter": "python",
   "pygments_lexer": "ipython3",
   "version": "3.9.7"
  }
 },
 "nbformat": 4,
 "nbformat_minor": 5
}

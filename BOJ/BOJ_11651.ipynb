{
 "cells": [
  {
   "cell_type": "code",
   "execution_count": null,
   "id": "7eaef7a6-47eb-4b90-b47e-744d1f0599f6",
   "metadata": {},
   "outputs": [],
   "source": [
    "import sys\n",
    "n = int(sys.stdin.readline())\n",
    "\n",
    "dot = []\n",
    "for i in range(n):\n",
    "    x, y = map(int, sys.stdin.readline().split())\n",
    "    dot.append([x, y])\n",
    "    \n",
    "dot.sort(key = lambda x: (x[1], x[0]))\n",
    "\n",
    "for xy in dot:\n",
    "    print(xy[0], xy[1])"
   ]
  }
 ],
 "metadata": {
  "kernelspec": {
   "display_name": "Python 3 (ipykernel)",
   "language": "python",
   "name": "python3"
  },
  "language_info": {
   "codemirror_mode": {
    "name": "ipython",
    "version": 3
   },
   "file_extension": ".py",
   "mimetype": "text/x-python",
   "name": "python",
   "nbconvert_exporter": "python",
   "pygments_lexer": "ipython3",
   "version": "3.9.7"
  }
 },
 "nbformat": 4,
 "nbformat_minor": 5
}

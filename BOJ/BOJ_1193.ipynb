{
 "cells": [
  {
   "cell_type": "code",
   "execution_count": 4,
   "id": "39be4b7c-b9fd-4d50-b5e9-f50b32d61cb0",
   "metadata": {},
   "outputs": [
    {
     "name": "stdin",
     "output_type": "stream",
     "text": [
      " 14\n"
     ]
    },
    {
     "name": "stdout",
     "output_type": "stream",
     "text": [
      "2/4\n"
     ]
    }
   ],
   "source": [
    "input_num = int(input())\n",
    "\n",
    "line = 0  # 사선 라인\n",
    "max_num = 0  # 입력된 숫자(input_num 변수)의 라인에서 가장 큰 숫자\n",
    "while input_num > max_num:\n",
    "    line += 1  \n",
    "    max_num += line\n",
    "\n",
    "gap = max_num - input_num\n",
    "if line % 2 == 0:  # 사선 라인이 짝수번째 일 때\n",
    "    top = line - gap  #분자\n",
    "    under = gap + 1  #분모\n",
    "else :  # 사선 라인이 홀수번째 일 때\n",
    "    top = gap + 1  #분자\n",
    "    under = line - gap  #분모\n",
    "print(f'{top}/{under}')"
   ]
  }
 ],
 "metadata": {
  "kernelspec": {
   "display_name": "Python 3 (ipykernel)",
   "language": "python",
   "name": "python3"
  },
  "language_info": {
   "codemirror_mode": {
    "name": "ipython",
    "version": 3
   },
   "file_extension": ".py",
   "mimetype": "text/x-python",
   "name": "python",
   "nbconvert_exporter": "python",
   "pygments_lexer": "ipython3",
   "version": "3.9.7"
  }
 },
 "nbformat": 4,
 "nbformat_minor": 5
}

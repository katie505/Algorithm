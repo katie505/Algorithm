{
 "cells": [
  {
   "cell_type": "code",
   "execution_count": 8,
   "id": "9dcaebb7-232d-4f46-afba-54898569f09a",
   "metadata": {},
   "outputs": [
    {
     "name": "stdin",
     "output_type": "stream",
     "text": [
      " 5\n",
      " 3 4\n",
      " 1 1\n",
      " 1 -1\n",
      " 2 2\n",
      " 3 3\n"
     ]
    },
    {
     "name": "stdout",
     "output_type": "stream",
     "text": [
      "1 -1\n",
      "1 1\n",
      "2 2\n",
      "3 3\n",
      "3 4\n"
     ]
    }
   ],
   "source": [
    "# 시간초과\n",
    "N = int(input())\n",
    "\n",
    "dot = []\n",
    "for _ in range(N):\n",
    "    x, y = map(int, input().split())\n",
    "    dot.append([x, y])\n",
    "\n",
    "for i in range(N):\n",
    "    for j in range(N):\n",
    "        if dot[i][0] < dot[j][0]:\n",
    "            dot[i], dot[j] = dot[j], dot[i]\n",
    "        elif dot[i][0] == dot[j][0]:\n",
    "            if dot[i][1] < dot[j][1]:\n",
    "                dot[i], dot[j] = dot[j], dot[i]\n",
    "                \n",
    "for xy in dot:\n",
    "    print(xy[0], xy[1])"
   ]
  },
  {
   "cell_type": "code",
   "execution_count": 9,
   "id": "9d67305e-9768-4dd7-8d0d-d229255b6a51",
   "metadata": {},
   "outputs": [
    {
     "name": "stdin",
     "output_type": "stream",
     "text": [
      " 5\n",
      " 3 4\n",
      " 1 1\n",
      " 1 -1\n",
      " 2 2\n",
      " 3 3\n"
     ]
    },
    {
     "name": "stdout",
     "output_type": "stream",
     "text": [
      "1 -1\n",
      "1 1\n",
      "2 2\n",
      "3 3\n",
      "3 4\n"
     ]
    }
   ],
   "source": [
    "N = int(input())\n",
    "\n",
    "dot = []\n",
    "for _ in range(N):\n",
    "    x, y = map(int, input().split())\n",
    "    dot.append([x, y])\n",
    "\n",
    "dot.sort(key=lambda x: (x[0], x[1]))\n",
    "\n",
    "for xy in dot:\n",
    "    print(xy[0], xy[1])"
   ]
  },
  {
   "cell_type": "code",
   "execution_count": null,
   "id": "f66968ce-5022-45f8-95f6-71bbf4833141",
   "metadata": {},
   "outputs": [],
   "source": [
    "import sys\n",
    "n = int(sys.stdin.readline())\n",
    "so = []\n",
    "for i in range(n):\n",
    "    so.append(list(map(int, sys.stdin.readline().split())))\n",
    "so.sort(key=lambda x: (x[0], x[1]))\n",
    "for i in so:\n",
    "    print(i[0], i[1])"
   ]
  }
 ],
 "metadata": {
  "kernelspec": {
   "display_name": "Python 3 (ipykernel)",
   "language": "python",
   "name": "python3"
  },
  "language_info": {
   "codemirror_mode": {
    "name": "ipython",
    "version": 3
   },
   "file_extension": ".py",
   "mimetype": "text/x-python",
   "name": "python",
   "nbconvert_exporter": "python",
   "pygments_lexer": "ipython3",
   "version": "3.9.7"
  }
 },
 "nbformat": 4,
 "nbformat_minor": 5
}

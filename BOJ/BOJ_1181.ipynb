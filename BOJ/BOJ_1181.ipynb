{
 "cells": [
  {
   "cell_type": "code",
   "execution_count": 3,
   "id": "ff7754ce-9b56-4214-9270-b197790cd2fb",
   "metadata": {},
   "outputs": [
    {
     "name": "stdin",
     "output_type": "stream",
     "text": [
      " 13\n",
      " but\n",
      " i\n",
      " wont\n",
      " hesitate\n",
      " no\n",
      " more\n",
      " no\n",
      " more\n",
      " it\n",
      " cannot\n",
      " wait\n",
      " im\n",
      " yours\n"
     ]
    },
    {
     "name": "stdout",
     "output_type": "stream",
     "text": [
      "i\n",
      "im\n",
      "it\n",
      "no\n",
      "but\n",
      "more\n",
      "wait\n",
      "wont\n",
      "yours\n",
      "cannot\n",
      "hesitate\n"
     ]
    }
   ],
   "source": [
    "N = int(input())\n",
    "words = [input() for _ in range(N)]\n",
    "\n",
    "words = list(set(words))\n",
    "\n",
    "words.sort()\n",
    "words.sort(key = len)\n",
    "\n",
    "for word in words:\n",
    "    print(word)"
   ]
  },
  {
   "cell_type": "code",
   "execution_count": null,
   "id": "c5268a30-2754-491d-a427-1962e409ee27",
   "metadata": {},
   "outputs": [],
   "source": [
    "import sys\n",
    "\n",
    "input = sys.stdin.readline\n",
    "\n",
    "N = int(input())\n",
    "words = [input().strip() for _ in range(N)]\n",
    "\n",
    "words = list(set(words))\n",
    "\n",
    "words.sort()\n",
    "words.sort(key = len)\n",
    "\n",
    "for word in words:\n",
    "    print(word)"
   ]
  }
 ],
 "metadata": {
  "kernelspec": {
   "display_name": "Python 3 (ipykernel)",
   "language": "python",
   "name": "python3"
  },
  "language_info": {
   "codemirror_mode": {
    "name": "ipython",
    "version": 3
   },
   "file_extension": ".py",
   "mimetype": "text/x-python",
   "name": "python",
   "nbconvert_exporter": "python",
   "pygments_lexer": "ipython3",
   "version": "3.9.7"
  }
 },
 "nbformat": 4,
 "nbformat_minor": 5
}

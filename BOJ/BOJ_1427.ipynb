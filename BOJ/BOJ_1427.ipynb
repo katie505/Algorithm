{
 "cells": [
  {
   "cell_type": "code",
   "execution_count": 13,
   "id": "49e96941-6839-4dda-84aa-08b377ce7d43",
   "metadata": {},
   "outputs": [
    {
     "name": "stdin",
     "output_type": "stream",
     "text": [
      " 25341\n"
     ]
    },
    {
     "name": "stdout",
     "output_type": "stream",
     "text": [
      "54321\n"
     ]
    }
   ],
   "source": [
    "N = int(input())\n",
    "\n",
    "N_list = list(str(N))\n",
    "\n",
    "for i in range(len(N_list)):\n",
    "    for j in range(len(N_list)):\n",
    "        if N_list[i] > N_list[j]:\n",
    "            N_list[i], N_list[j] = N_list[j], N_list[i]\n",
    "\n",
    "print(int(''.join(n for n in N_list)))"
   ]
  },
  {
   "cell_type": "code",
   "execution_count": 19,
   "id": "f5557b42-8e32-4f14-98c7-7c5c57abb371",
   "metadata": {},
   "outputs": [
    {
     "name": "stdin",
     "output_type": "stream",
     "text": [
      " 25341\n"
     ]
    },
    {
     "name": "stdout",
     "output_type": "stream",
     "text": [
      "54321"
     ]
    }
   ],
   "source": [
    "N = int(input())\n",
    "\n",
    "N_list = []\n",
    "for i in str(N):\n",
    "    N_list.append(int(i))\n",
    "\n",
    "N_list.sort(reverse = True)\n",
    "\n",
    "for i in N_list:\n",
    "    print(i,end='')"
   ]
  }
 ],
 "metadata": {
  "kernelspec": {
   "display_name": "Python 3 (ipykernel)",
   "language": "python",
   "name": "python3"
  },
  "language_info": {
   "codemirror_mode": {
    "name": "ipython",
    "version": 3
   },
   "file_extension": ".py",
   "mimetype": "text/x-python",
   "name": "python",
   "nbconvert_exporter": "python",
   "pygments_lexer": "ipython3",
   "version": "3.9.7"
  }
 },
 "nbformat": 4,
 "nbformat_minor": 5
}

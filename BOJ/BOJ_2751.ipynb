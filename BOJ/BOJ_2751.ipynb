{
 "cells": [
  {
   "cell_type": "markdown",
   "id": "a29d085f-7bef-4710-bfcd-cbeca045743b",
   "metadata": {},
   "source": [
    "- 2750번과 문제는 같지만 주어진 N의 범위가 다르다\n",
    "    - 2750 : 1 <= N <= 1,000\n",
    "    - 2751 : 1 <= N <= 1,000,000\n",
    "    \n",
    "- 2750번에서 작성한 코드는 PyPy3에서 실행하면 됨\n",
    "- Jupyter Notebook에서는 stdin이 제대로 구성되어 있지 않기 때문에 코드만 남김"
   ]
  },
  {
   "cell_type": "code",
   "execution_count": null,
   "id": "f0dc26a4-4fea-4e79-8d5a-e1a2a031ad74",
   "metadata": {},
   "outputs": [],
   "source": [
    "# input()이 sys.stdin.readline()보다 느린 이유 : input() 내장 함수는 sys.stdin.readline()과 비교해서 \n",
    "# prompt message를 출력하고, 개행 문자를 삭제한 값을 리턴하기 때문\n",
    "\n",
    "import sys\n",
    "\n",
    "N = int(sys.stdin.readline())\n",
    "_list = []\n",
    "\n",
    "for _ in range(N):\n",
    "    _list.append(int(sys.stdin.readline()))\n",
    "\n",
    "_list.sort()\n",
    "\n",
    "for data in _list:\n",
    "    print(data)"
   ]
  },
  {
   "cell_type": "code",
   "execution_count": null,
   "id": "23326629-e628-4b2d-ba65-7e8881a75e0c",
   "metadata": {},
   "outputs": [],
   "source": [
    "import sys\n",
    "n = int(input())\n",
    "l = []\n",
    "for i in range(n):\n",
    "    l.append(int(sys.stdin.readline()))\n",
    "for i in sorted(l):\n",
    "    sys.stdout.write(str(i)+'\\n')"
   ]
  }
 ],
 "metadata": {
  "kernelspec": {
   "display_name": "Python 3 (ipykernel)",
   "language": "python",
   "name": "python3"
  },
  "language_info": {
   "codemirror_mode": {
    "name": "ipython",
    "version": 3
   },
   "file_extension": ".py",
   "mimetype": "text/x-python",
   "name": "python",
   "nbconvert_exporter": "python",
   "pygments_lexer": "ipython3",
   "version": "3.9.7"
  }
 },
 "nbformat": 4,
 "nbformat_minor": 5
}

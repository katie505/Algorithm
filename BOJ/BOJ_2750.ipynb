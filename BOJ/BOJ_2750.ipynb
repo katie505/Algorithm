{
 "cells": [
  {
   "cell_type": "code",
   "execution_count": 1,
   "id": "72bfd897-68f8-45e3-8b4d-09477009b457",
   "metadata": {},
   "outputs": [
    {
     "name": "stdin",
     "output_type": "stream",
     "text": [
      " 5\n",
      " 5\n",
      " 2\n",
      " 3\n",
      " 4\n",
      " 1\n"
     ]
    },
    {
     "name": "stdout",
     "output_type": "stream",
     "text": [
      "1\n",
      "2\n",
      "3\n",
      "4\n",
      "5\n"
     ]
    }
   ],
   "source": [
    "N = int(input())\n",
    "\n",
    "nums = [int(input()) for _ in range(N)]\n",
    "\n",
    "for i in sorted(nums):\n",
    "    print(i)"
   ]
  },
  {
   "cell_type": "code",
   "execution_count": 5,
   "id": "3a3fcb72-d9a3-4974-8b74-25fe1ef8e697",
   "metadata": {},
   "outputs": [
    {
     "name": "stdin",
     "output_type": "stream",
     "text": [
      " 5\n",
      " 5\n",
      " 2\n",
      " 3\n",
      " 4\n",
      " 1\n"
     ]
    },
    {
     "name": "stdout",
     "output_type": "stream",
     "text": [
      "1\n",
      "2\n",
      "3\n",
      "4\n",
      "5\n"
     ]
    }
   ],
   "source": [
    "N = int(input())\n",
    "\n",
    "num = []\n",
    "\n",
    "for _ in range(N) : \n",
    "    num.append(int(input()))\n",
    "    \n",
    "for i in range(len(num)) : \n",
    "    for j in range(len(num)) : \n",
    "        if num[i] < num[j] : \n",
    "            num[i], num[j] = num[j], num[i]\n",
    "            \n",
    "for n in num: \n",
    "    print(n)"
   ]
  }
 ],
 "metadata": {
  "kernelspec": {
   "display_name": "Python 3 (ipykernel)",
   "language": "python",
   "name": "python3"
  },
  "language_info": {
   "codemirror_mode": {
    "name": "ipython",
    "version": 3
   },
   "file_extension": ".py",
   "mimetype": "text/x-python",
   "name": "python",
   "nbconvert_exporter": "python",
   "pygments_lexer": "ipython3",
   "version": "3.9.7"
  }
 },
 "nbformat": 4,
 "nbformat_minor": 5
}

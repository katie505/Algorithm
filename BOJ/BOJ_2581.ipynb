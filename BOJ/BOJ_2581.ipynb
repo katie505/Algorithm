{
 "cells": [
  {
   "cell_type": "code",
   "execution_count": 1,
   "id": "12b607bf-5c57-4eb0-b902-795e12680695",
   "metadata": {},
   "outputs": [
    {
     "name": "stdin",
     "output_type": "stream",
     "text": [
      " 60\n",
      " 100\n"
     ]
    },
    {
     "name": "stdout",
     "output_type": "stream",
     "text": [
      "620\n",
      "61\n"
     ]
    }
   ],
   "source": [
    "M = int(input())\n",
    "N = int(input())\n",
    "\n",
    "num_list = []\n",
    "for num in range(M, N+1):\n",
    "    err = 0\n",
    "    if num > 1:\n",
    "        for i in range(2, num):\n",
    "            if num % i == 0:\n",
    "                err += 1\n",
    "                break # 2부터 n-1 중 나눈 몫이 0인 값이 있으므로 소수가 아니라는 의미\n",
    "        if err == 0:\n",
    "            num_list.append(num)\n",
    "        \n",
    "if len(num_list) > 0:\n",
    "    print(sum(num_list))\n",
    "    print(min(num_list))\n",
    "else:\n",
    "    print(-1)"
   ]
  }
 ],
 "metadata": {
  "kernelspec": {
   "display_name": "Python 3 (ipykernel)",
   "language": "python",
   "name": "python3"
  },
  "language_info": {
   "codemirror_mode": {
    "name": "ipython",
    "version": 3
   },
   "file_extension": ".py",
   "mimetype": "text/x-python",
   "name": "python",
   "nbconvert_exporter": "python",
   "pygments_lexer": "ipython3",
   "version": "3.9.7"
  }
 },
 "nbformat": 4,
 "nbformat_minor": 5
}

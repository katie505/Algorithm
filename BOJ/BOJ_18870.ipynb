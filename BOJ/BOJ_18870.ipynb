{
 "cells": [
  {
   "cell_type": "code",
   "execution_count": 7,
   "id": "15a9429b-ee0a-4693-a9e0-230b464dc8a8",
   "metadata": {},
   "outputs": [
    {
     "name": "stdin",
     "output_type": "stream",
     "text": [
      " 5\n",
      " 2 4 -10 4 -9\n"
     ]
    },
    {
     "name": "stdout",
     "output_type": "stream",
     "text": [
      "2 3 0 3 1 "
     ]
    }
   ],
   "source": [
    "# 시간초과\n",
    "N = int(input())\n",
    "\n",
    "xn = list(map(int, input().split()))\n",
    "\n",
    "res = []\n",
    "for i in range(N):\n",
    "    count = 0\n",
    "    for j in range(N):\n",
    "        if xn[i] > xn[j]:\n",
    "            count += 1\n",
    "    res.append(count)\n",
    "    \n",
    "for i in res:\n",
    "    print(i, end = ' ')"
   ]
  },
  {
   "cell_type": "code",
   "execution_count": 6,
   "id": "8717ae6f-d336-43b0-869f-785b3a8252e2",
   "metadata": {},
   "outputs": [
    {
     "name": "stdin",
     "output_type": "stream",
     "text": [
      " 5\n",
      " 2 4 -10 4 -9\n"
     ]
    },
    {
     "name": "stdout",
     "output_type": "stream",
     "text": [
      "2 3 0 3 1 "
     ]
    }
   ],
   "source": [
    "n = int(input())\n",
    "arr = list(map(int, input().split()))\n",
    "\n",
    "# 인덱스 = 자기 자신보다 작은 수의 개수\n",
    "arr2 = sorted(list(set(arr)))\n",
    "dic = {arr2[i] : i for i in range(len(arr2))}\n",
    "for i in arr:\n",
    "    print(dic[i], end = ' ')"
   ]
  }
 ],
 "metadata": {
  "kernelspec": {
   "display_name": "Python 3 (ipykernel)",
   "language": "python",
   "name": "python3"
  },
  "language_info": {
   "codemirror_mode": {
    "name": "ipython",
    "version": 3
   },
   "file_extension": ".py",
   "mimetype": "text/x-python",
   "name": "python",
   "nbconvert_exporter": "python",
   "pygments_lexer": "ipython3",
   "version": "3.9.7"
  }
 },
 "nbformat": 4,
 "nbformat_minor": 5
}

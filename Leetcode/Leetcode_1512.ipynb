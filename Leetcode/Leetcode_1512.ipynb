{
 "cells": [
  {
   "cell_type": "code",
   "execution_count": 1,
   "id": "d1407e84-6a0d-4131-9891-221f53987203",
   "metadata": {},
   "outputs": [],
   "source": [
    "nums = [1,2,3,1,1,3]"
   ]
  },
  {
   "cell_type": "code",
   "execution_count": 3,
   "id": "3e8b123c-ca7e-499a-9233-cfdb8ea260cc",
   "metadata": {},
   "outputs": [],
   "source": [
    "# My answer\n",
    "from typing import List\n",
    "class Solution1:\n",
    "    def numIdenticalPairs(self, nums: List[int]) -> int:\n",
    "        count = 0\n",
    "        for i in range(len(nums)):\n",
    "            for j in range(i, len(nums)):\n",
    "                if i < j and nums[i] == nums[j]:\n",
    "                    count += 1\n",
    "        return count"
   ]
  },
  {
   "cell_type": "code",
   "execution_count": 4,
   "id": "28d72b28-2a22-44f7-b1da-19e521661cb9",
   "metadata": {},
   "outputs": [
    {
     "data": {
      "text/plain": [
       "4"
      ]
     },
     "execution_count": 4,
     "metadata": {},
     "output_type": "execute_result"
    }
   ],
   "source": [
    "answer = Solution1()\n",
    "answer.numIdenticalPairs(nums)"
   ]
  },
  {
   "cell_type": "code",
   "execution_count": 9,
   "id": "eba0eef6-7381-4870-a653-7b1e932b9509",
   "metadata": {},
   "outputs": [],
   "source": [
    "import collections\n",
    "\n",
    "class Solution2:\n",
    "    def numIdenticalPairs(self, nums: List[int]) -> int:\n",
    "        nums_c = collections.Counter(nums)\n",
    "        answer = 0\n",
    "        for key, value in nums_c.items():\n",
    "            if value > 1:\n",
    "                answer += value * (value - 1) / 2 # nC2\n",
    "                \n",
    "        return int(answer)"
   ]
  },
  {
   "cell_type": "code",
   "execution_count": 10,
   "id": "a454ab9c-8a71-49f6-ad57-a40e38122244",
   "metadata": {},
   "outputs": [
    {
     "data": {
      "text/plain": [
       "4"
      ]
     },
     "execution_count": 10,
     "metadata": {},
     "output_type": "execute_result"
    }
   ],
   "source": [
    "answer = Solution2()\n",
    "answer.numIdenticalPairs(nums)"
   ]
  }
 ],
 "metadata": {
  "kernelspec": {
   "display_name": "Python 3 (ipykernel)",
   "language": "python",
   "name": "python3"
  },
  "language_info": {
   "codemirror_mode": {
    "name": "ipython",
    "version": 3
   },
   "file_extension": ".py",
   "mimetype": "text/x-python",
   "name": "python",
   "nbconvert_exporter": "python",
   "pygments_lexer": "ipython3",
   "version": "3.9.7"
  }
 },
 "nbformat": 4,
 "nbformat_minor": 5
}

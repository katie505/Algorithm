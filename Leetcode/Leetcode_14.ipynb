{
 "cells": [
  {
   "cell_type": "code",
   "execution_count": 2,
   "id": "fe0a7f23-fb73-4203-9c13-3109222e5c88",
   "metadata": {},
   "outputs": [],
   "source": [
    "strs1 = [\"flower\",\"flow\",\"flight\"]\n",
    "strs2 = [\"dog\",\"racecar\",\"car\"]"
   ]
  },
  {
   "cell_type": "code",
   "execution_count": 3,
   "id": "73e27160-942f-4a44-81d7-586f7a42eb28",
   "metadata": {},
   "outputs": [],
   "source": [
    "from typing import List\n",
    "\n",
    "class Solution:\n",
    "    def longestCommonPrefix(self, strs: List[str]) -> str:\n",
    "        if not strs:\n",
    "            return ''\n",
    "        \n",
    "        minStr = min(strs, key = len)\n",
    "        \n",
    "        for i, x in enumerate(minStr):\n",
    "            for other in strs:\n",
    "                if other[i] != x:\n",
    "                    return minStr[:i]\n",
    "        return minStr"
   ]
  },
  {
   "cell_type": "code",
   "execution_count": 4,
   "id": "cf9d81b7-001a-4c64-8f73-102cb362df3e",
   "metadata": {},
   "outputs": [],
   "source": [
    "answer = Solution()"
   ]
  },
  {
   "cell_type": "code",
   "execution_count": 5,
   "id": "b2161116-3aa4-40b7-a9f3-20192f43da93",
   "metadata": {},
   "outputs": [
    {
     "data": {
      "text/plain": [
       "'fl'"
      ]
     },
     "execution_count": 5,
     "metadata": {},
     "output_type": "execute_result"
    }
   ],
   "source": [
    "answer.longestCommonPrefix(strs1)"
   ]
  },
  {
   "cell_type": "code",
   "execution_count": 6,
   "id": "f4179302-b2b3-4a9e-8c9b-8a4da260904a",
   "metadata": {},
   "outputs": [
    {
     "data": {
      "text/plain": [
       "''"
      ]
     },
     "execution_count": 6,
     "metadata": {},
     "output_type": "execute_result"
    }
   ],
   "source": [
    "answer.longestCommonPrefix(strs2)"
   ]
  }
 ],
 "metadata": {
  "kernelspec": {
   "display_name": "Python 3 (ipykernel)",
   "language": "python",
   "name": "python3"
  },
  "language_info": {
   "codemirror_mode": {
    "name": "ipython",
    "version": 3
   },
   "file_extension": ".py",
   "mimetype": "text/x-python",
   "name": "python",
   "nbconvert_exporter": "python",
   "pygments_lexer": "ipython3",
   "version": "3.9.7"
  }
 },
 "nbformat": 4,
 "nbformat_minor": 5
}

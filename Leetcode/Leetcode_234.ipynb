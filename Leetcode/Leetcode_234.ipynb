{
 "cells": [
  {
   "cell_type": "code",
   "execution_count": 11,
   "id": "564bb4ef-7d9c-45fa-9162-acac09039395",
   "metadata": {},
   "outputs": [],
   "source": [
    "# 리스트 변환\n",
    "from typing import Optional\n",
    "class ListNode:\n",
    "    def __init__(self, val=0, next=None):\n",
    "        self.val = val\n",
    "        self.next = next\n",
    "\n",
    "class Solution:\n",
    "    def isPalindrome1(self, head: Optional[ListNode]) -> bool:\n",
    "        h_list = []\n",
    "        \n",
    "        while head != None:\n",
    "            val = head.val\n",
    "            \n",
    "            h_list.append(val)\n",
    "            \n",
    "            head = head.next\n",
    "            \n",
    "        if h_list == h_list[::-1]:\n",
    "            return True\n",
    "        else:\n",
    "            return False"
   ]
  },
  {
   "cell_type": "code",
   "execution_count": 12,
   "id": "f3b4092e-fc0b-4539-a5aa-cc219971ee65",
   "metadata": {},
   "outputs": [],
   "source": [
    "head1 = ListNode(1)\n",
    "head1.next = ListNode(2)\n",
    "head1.next.next = ListNode(2)\n",
    "head1.next.next.next = ListNode(1)"
   ]
  },
  {
   "cell_type": "code",
   "execution_count": 13,
   "id": "d3a78052-3ba1-4118-86ba-381a8269330b",
   "metadata": {},
   "outputs": [
    {
     "data": {
      "text/plain": [
       "True"
      ]
     },
     "execution_count": 13,
     "metadata": {},
     "output_type": "execute_result"
    }
   ],
   "source": [
    "answer = Solution()\n",
    "answer.isPalindrome1(head1)"
   ]
  },
  {
   "cell_type": "code",
   "execution_count": 14,
   "id": "148dbb5d-8669-41ea-b588-89b82b1403b2",
   "metadata": {},
   "outputs": [],
   "source": [
    "head2 = ListNode(1)\n",
    "head2.next = ListNode(2)"
   ]
  },
  {
   "cell_type": "code",
   "execution_count": 15,
   "id": "3e80be89-7833-4bad-8388-465c34ee256c",
   "metadata": {},
   "outputs": [
    {
     "data": {
      "text/plain": [
       "False"
      ]
     },
     "execution_count": 15,
     "metadata": {},
     "output_type": "execute_result"
    }
   ],
   "source": [
    "answer = Solution()\n",
    "answer.isPalindrome1(head2)"
   ]
  },
  {
   "cell_type": "code",
   "execution_count": 18,
   "id": "ecebc95b-cd05-49c5-b283-0a84bf8897d2",
   "metadata": {},
   "outputs": [],
   "source": [
    "# Runner 이용\n",
    "# slow : 느린 런너, fast : 빠른 런너(slow가 멈춰야하는 시점을 알려주는)\n",
    "# 빠른 런너가 끝에 다다를 때 느린 런너는 정확히 중간 지점에 도달하게 될 것\n",
    "# 느린 런너는 중간까지 이동하면서 역순으로 연결 리스트 rev 만들어 나감\n",
    "# 중간에 도달한 느린 런너가 나머지 경로를 이동할 때, 역순으로 만든 연결 리스트의 값들과 일치하는지 확인\n",
    "class Solution:\n",
    "    def isPalindrome(self, head: ListNode) -> bool:\n",
    "        rev = None\n",
    "        slow = fast = head\n",
    "        # 런너를 이용해 역순 연결 리스트 구성\n",
    "        while fast and fast.next:\n",
    "            fast = fast.next.next\n",
    "            rev, rev.next, slow = slow, rev, slow.next\n",
    "        if fast:\n",
    "            slow = slow.next\n",
    "\n",
    "        # 팰린드롬 여부 확인\n",
    "        while rev and rev.val == slow.val:\n",
    "            slow, rev = slow.next, rev.next\n",
    "        return not rev # rev가 None이라면 True 출력\n",
    "        # return not slow"
   ]
  },
  {
   "cell_type": "code",
   "execution_count": 19,
   "id": "fc145650-80b0-4c43-9562-4d1eed84425b",
   "metadata": {},
   "outputs": [],
   "source": [
    "class Solution:\n",
    "    def isPalindrome(self, head: Optional[ListNode]) -> bool:\n",
    "        Node = head\n",
    "        # Link List를 List로 바꿔 풀기\n",
    "        myList = list()\n",
    "        while Node:\n",
    "            myList.append(Node.val)\n",
    "            Node = Node.next\n",
    "        # Two-pointer로 palindrome 푸는 방법\n",
    "        left, right = 0, len(myList)-1\n",
    "        Answer = True\n",
    "        while left < right:\n",
    "            if myList[left] != myList[right]:\n",
    "                Answer = False\n",
    "                break\n",
    "            else:\n",
    "                left += 1\n",
    "                right -= 1\n",
    "        return Answer"
   ]
  }
 ],
 "metadata": {
  "kernelspec": {
   "display_name": "Python 3 (ipykernel)",
   "language": "python",
   "name": "python3"
  },
  "language_info": {
   "codemirror_mode": {
    "name": "ipython",
    "version": 3
   },
   "file_extension": ".py",
   "mimetype": "text/x-python",
   "name": "python",
   "nbconvert_exporter": "python",
   "pygments_lexer": "ipython3",
   "version": "3.9.7"
  }
 },
 "nbformat": 4,
 "nbformat_minor": 5
}

{
 "cells": [
  {
   "cell_type": "code",
   "execution_count": 5,
   "id": "564bb4ef-7d9c-45fa-9162-acac09039395",
   "metadata": {},
   "outputs": [],
   "source": [
    "from typing import Optional\n",
    "class ListNode:\n",
    "    def __init__(self, val=0, next=None):\n",
    "        self.val = val\n",
    "        self.next = next\n",
    "\n",
    "class Solution:\n",
    "    def isPalindrome1(self, head: Optional[ListNode]) -> bool:\n",
    "        h_list = []\n",
    "        \n",
    "        while head != None:\n",
    "            val = head.val\n",
    "            \n",
    "            h_list.append(val)\n",
    "            \n",
    "            head = head.next\n",
    "            \n",
    "        if h_list == h_list[::-1]:\n",
    "            return True\n",
    "        else:\n",
    "            return False"
   ]
  },
  {
   "cell_type": "code",
   "execution_count": 9,
   "id": "f3b4092e-fc0b-4539-a5aa-cc219971ee65",
   "metadata": {},
   "outputs": [],
   "source": [
    "head1 = ListNode(1)\n",
    "head1.next = ListNode(2)\n",
    "head1.next.next = ListNode(2)\n",
    "head1.next.next.next = ListNode(1)"
   ]
  },
  {
   "cell_type": "code",
   "execution_count": 10,
   "id": "d3a78052-3ba1-4118-86ba-381a8269330b",
   "metadata": {},
   "outputs": [
    {
     "data": {
      "text/plain": [
       "True"
      ]
     },
     "execution_count": 10,
     "metadata": {},
     "output_type": "execute_result"
    }
   ],
   "source": [
    "answer = Solution()\n",
    "answer.isPalindrome1(head1)"
   ]
  },
  {
   "cell_type": "code",
   "execution_count": 11,
   "id": "148dbb5d-8669-41ea-b588-89b82b1403b2",
   "metadata": {},
   "outputs": [],
   "source": [
    "head2 = ListNode(1)\n",
    "head2.next = ListNode(2)"
   ]
  },
  {
   "cell_type": "code",
   "execution_count": 12,
   "id": "3e80be89-7833-4bad-8388-465c34ee256c",
   "metadata": {},
   "outputs": [
    {
     "data": {
      "text/plain": [
       "False"
      ]
     },
     "execution_count": 12,
     "metadata": {},
     "output_type": "execute_result"
    }
   ],
   "source": [
    "answer = Solution()\n",
    "answer.isPalindrome1(head2)"
   ]
  }
 ],
 "metadata": {
  "kernelspec": {
   "display_name": "Python 3 (ipykernel)",
   "language": "python",
   "name": "python3"
  },
  "language_info": {
   "codemirror_mode": {
    "name": "ipython",
    "version": 3
   },
   "file_extension": ".py",
   "mimetype": "text/x-python",
   "name": "python",
   "nbconvert_exporter": "python",
   "pygments_lexer": "ipython3",
   "version": "3.9.7"
  }
 },
 "nbformat": 4,
 "nbformat_minor": 5
}

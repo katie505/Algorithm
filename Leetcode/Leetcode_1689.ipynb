{
 "cells": [
  {
   "cell_type": "code",
   "execution_count": 7,
   "id": "d469c9eb-b97e-4ba3-b9a0-95e9276be915",
   "metadata": {},
   "outputs": [],
   "source": [
    "n1 = \"32\"\n",
    "n2 = \"82734\"\n",
    "n3 = \"27346209830709182346\""
   ]
  },
  {
   "cell_type": "code",
   "execution_count": 8,
   "id": "47724cf1-fd6c-445c-85c8-4487575a3934",
   "metadata": {},
   "outputs": [],
   "source": [
    "class Solution:\n",
    "    def minPartitions1(self, n: str) -> int:\n",
    "        n_list = [int(i) for i in n]\n",
    "        return max(n_list)\n",
    "    \n",
    "    def minPartitions2(self, n: str) -> int:\n",
    "        return max(n)\n",
    "    \n",
    "    #  Greedy 알고리즘 출력 풀이\n",
    "    def minPartitions3(self, n: str) -> int:\n",
    "        InputList = [ int(i) for i in list(n) ]\n",
    "        MinusList = []\n",
    "        nCount = 0\n",
    "        while sum(InputList) != 0:\n",
    "            Minus = []\n",
    "            for i, digit in enumerate(InputList):\n",
    "                if digit != 0:\n",
    "                    Minus.append(1)\n",
    "                    InputList[i] -= 1\n",
    "                elif digit == 0:\n",
    "                    Minus.append(0)\n",
    "            Minus = ''.join([str(i) for i in Minus])\n",
    "            MinusList.append(Minus)\n",
    "            nCount += 1\n",
    "        print(MinusList)\n",
    "        return nCount"
   ]
  },
  {
   "cell_type": "code",
   "execution_count": 9,
   "id": "5f3dd2f4-9251-4924-a5a2-45e95294ad49",
   "metadata": {},
   "outputs": [
    {
     "data": {
      "text/plain": [
       "3"
      ]
     },
     "execution_count": 9,
     "metadata": {},
     "output_type": "execute_result"
    }
   ],
   "source": [
    "answer = Solution()\n",
    "answer.minPartitions1(n1)"
   ]
  },
  {
   "cell_type": "code",
   "execution_count": 10,
   "id": "544e0550-81cd-4502-800c-0bdde7b6ec98",
   "metadata": {},
   "outputs": [
    {
     "data": {
      "text/plain": [
       "8"
      ]
     },
     "execution_count": 10,
     "metadata": {},
     "output_type": "execute_result"
    }
   ],
   "source": [
    "answer.minPartitions1(n2)"
   ]
  },
  {
   "cell_type": "code",
   "execution_count": 11,
   "id": "5e725600-8eb7-41c2-98f5-0b2f409a2395",
   "metadata": {},
   "outputs": [
    {
     "data": {
      "text/plain": [
       "9"
      ]
     },
     "execution_count": 11,
     "metadata": {},
     "output_type": "execute_result"
    }
   ],
   "source": [
    "answer.minPartitions1(n3)"
   ]
  },
  {
   "cell_type": "markdown",
   "id": "0b15af47-3bed-45a3-a0fc-2b44db8103ca",
   "metadata": {},
   "source": [
    "max는 숫자형뿐만 아니라 문자열 비교에도 사용할 수 있음"
   ]
  },
  {
   "cell_type": "code",
   "execution_count": 20,
   "id": "93f5e352-00a6-4621-bd2f-5b5f856fd2a4",
   "metadata": {},
   "outputs": [
    {
     "data": {
      "text/plain": [
       "'z'"
      ]
     },
     "execution_count": 20,
     "metadata": {},
     "output_type": "execute_result"
    }
   ],
   "source": [
    "# 단일 문자열 비교\n",
    "# 유니코드 값이 제일 큰 문자 반환\n",
    "str = 'asdzCda'\n",
    "max(str)"
   ]
  },
  {
   "cell_type": "code",
   "execution_count": 21,
   "id": "a1692efe-1d90-47b9-a9dd-7c7890837665",
   "metadata": {},
   "outputs": [
    {
     "name": "stdout",
     "output_type": "stream",
     "text": [
      "abd\n",
      "abc\n"
     ]
    }
   ],
   "source": [
    "# 문자열끼리 비교할 때\n",
    "# 숫자로 이루어진 문자열과, 글자로 이루어진 문자열을 비교할 때\n",
    "# 각 문자열의 맨 앞 부분을 비교하고, 유니코드로 변환했을 때 큰 값\n",
    "str = ['abc', 'abd']\n",
    "print(max(str))\n",
    "\n",
    "str = ['11', 'abc']\n",
    "print(max(str))"
   ]
  },
  {
   "cell_type": "code",
   "execution_count": 22,
   "id": "294b6701-f0cd-4b4f-be7b-1c906f458446",
   "metadata": {},
   "outputs": [
    {
     "name": "stdout",
     "output_type": "stream",
     "text": [
      "888\n"
     ]
    }
   ],
   "source": [
    "# 숫자로 이루어진 문자열을 비교할 때\n",
    "# 각 문자열의 맨 앞 부분을 비교하고, 숫자가 큰 것을 최댓값\n",
    "str = ['2000', '888']\n",
    "print(max(str))"
   ]
  }
 ],
 "metadata": {
  "kernelspec": {
   "display_name": "Python 3 (ipykernel)",
   "language": "python",
   "name": "python3"
  },
  "language_info": {
   "codemirror_mode": {
    "name": "ipython",
    "version": 3
   },
   "file_extension": ".py",
   "mimetype": "text/x-python",
   "name": "python",
   "nbconvert_exporter": "python",
   "pygments_lexer": "ipython3",
   "version": "3.9.7"
  }
 },
 "nbformat": 4,
 "nbformat_minor": 5
}

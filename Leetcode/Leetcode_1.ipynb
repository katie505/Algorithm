{
 "cells": [
  {
   "cell_type": "code",
   "execution_count": 80,
   "id": "7d88611e-f362-4552-ba88-713182492806",
   "metadata": {},
   "outputs": [],
   "source": [
    "nums1 = [2,7,11,15]\n",
    "target1 = 9"
   ]
  },
  {
   "cell_type": "code",
   "execution_count": 81,
   "id": "56e89726-59b3-4ba7-aa09-3f2bfd29184d",
   "metadata": {},
   "outputs": [],
   "source": [
    "nums2 = [3, 2, 4]\n",
    "target2 = 6"
   ]
  },
  {
   "cell_type": "code",
   "execution_count": 82,
   "id": "d61f9104-43fe-4394-bd79-d3037f957e5f",
   "metadata": {},
   "outputs": [],
   "source": [
    "from typing import List"
   ]
  },
  {
   "cell_type": "code",
   "execution_count": 93,
   "id": "ba88d67f-c19e-48a2-9c0a-fb52f2ce19f1",
   "metadata": {},
   "outputs": [],
   "source": [
    "# My answer\n",
    "class Solution:\n",
    "    # Double For loop\n",
    "    def twoSum1(self, nums: List[int], target: int) -> List[int]:\n",
    "        for i in range(len(nums)):\n",
    "            for j in range(i + 1, len(nums)):\n",
    "                if nums[i] + nums[j] == target:\n",
    "                    return [i, j]\n",
    "    \n",
    "    # Hash table\n",
    "    def twoSum2(self, nums: List[int], target: int) -> List[int]:\n",
    "        dict = {}\n",
    "        for k, v in enumerate(nums):\n",
    "            if target - v not in dict:\n",
    "                dict[v] = k\n",
    "            else:\n",
    "                return [dict[target-v], k]\n",
    "    \n",
    "    # Two - Pointer 1\n",
    "    def twoSum3(self, nums: List[int], target: int) -> List[int]:\n",
    "        left, right = 0, len(nums) - 1\n",
    "        while left <= right:\n",
    "            if nums[left] + nums[right] == target:\n",
    "                return [left, right]\n",
    "            right -= 1\n",
    "            if right == left:\n",
    "                left += 1\n",
    "                right = len(nums)-1"
   ]
  },
  {
   "cell_type": "code",
   "execution_count": 94,
   "id": "5e65e9b7-a50c-4ce4-b9e4-3493bd74043a",
   "metadata": {},
   "outputs": [],
   "source": [
    "answer = Solution()"
   ]
  },
  {
   "cell_type": "code",
   "execution_count": 95,
   "id": "4b060306-6a3b-472b-adcb-66f778686e4b",
   "metadata": {},
   "outputs": [
    {
     "data": {
      "text/plain": [
       "[0, 1]"
      ]
     },
     "execution_count": 95,
     "metadata": {},
     "output_type": "execute_result"
    }
   ],
   "source": [
    "answer.twoSum1(nums1, target1)"
   ]
  },
  {
   "cell_type": "code",
   "execution_count": 96,
   "id": "091b893f-de8e-4628-ba4f-61be7d696e44",
   "metadata": {},
   "outputs": [
    {
     "data": {
      "text/plain": [
       "[1, 2]"
      ]
     },
     "execution_count": 96,
     "metadata": {},
     "output_type": "execute_result"
    }
   ],
   "source": [
    "answer.twoSum1(nums2, target2)"
   ]
  },
  {
   "cell_type": "code",
   "execution_count": 97,
   "id": "8155fc42-58b2-48fb-a0d0-fd954c276dc3",
   "metadata": {},
   "outputs": [
    {
     "data": {
      "text/plain": [
       "[0, 1]"
      ]
     },
     "execution_count": 97,
     "metadata": {},
     "output_type": "execute_result"
    }
   ],
   "source": [
    "answer.twoSum2(nums1, target1)"
   ]
  },
  {
   "cell_type": "code",
   "execution_count": 98,
   "id": "2b435804-6956-427a-a32a-2bdcc52b874e",
   "metadata": {},
   "outputs": [
    {
     "data": {
      "text/plain": [
       "[1, 2]"
      ]
     },
     "execution_count": 98,
     "metadata": {},
     "output_type": "execute_result"
    }
   ],
   "source": [
    "answer.twoSum2(nums2, target2)"
   ]
  },
  {
   "cell_type": "code",
   "execution_count": 99,
   "id": "419fcb74-92a1-4ccd-a488-52776b027332",
   "metadata": {},
   "outputs": [
    {
     "data": {
      "text/plain": [
       "[0, 1]"
      ]
     },
     "execution_count": 99,
     "metadata": {},
     "output_type": "execute_result"
    }
   ],
   "source": [
    "answer.twoSum3(nums1, target1)"
   ]
  },
  {
   "cell_type": "code",
   "execution_count": 100,
   "id": "0d70998b-366e-42ad-acee-19637688113a",
   "metadata": {},
   "outputs": [
    {
     "data": {
      "text/plain": [
       "[1, 2]"
      ]
     },
     "execution_count": 100,
     "metadata": {},
     "output_type": "execute_result"
    }
   ],
   "source": [
    "answer.twoSum3(nums2, target2)"
   ]
  }
 ],
 "metadata": {
  "kernelspec": {
   "display_name": "Python 3 (ipykernel)",
   "language": "python",
   "name": "python3"
  },
  "language_info": {
   "codemirror_mode": {
    "name": "ipython",
    "version": 3
   },
   "file_extension": ".py",
   "mimetype": "text/x-python",
   "name": "python",
   "nbconvert_exporter": "python",
   "pygments_lexer": "ipython3",
   "version": "3.9.7"
  }
 },
 "nbformat": 4,
 "nbformat_minor": 5
}

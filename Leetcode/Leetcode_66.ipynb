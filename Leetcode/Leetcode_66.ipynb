{
 "cells": [
  {
   "cell_type": "code",
   "execution_count": 10,
   "id": "2ca3322c-8102-4240-833a-1ba8c27e1d6c",
   "metadata": {},
   "outputs": [],
   "source": [
    "digits1 = [1,2,3]\n",
    "digits2 = [9]"
   ]
  },
  {
   "cell_type": "code",
   "execution_count": 11,
   "id": "88e213eb-464c-4e55-b1ad-12528b3d01d4",
   "metadata": {},
   "outputs": [],
   "source": [
    "# My answer\n",
    "from typing import List\n",
    "\n",
    "class Solution1:\n",
    "    def plusOne(self, digits: List[int]) -> List[int]:\n",
    "        digits = list(map(str,digits))\n",
    "        nums = int(''.join(digits))\n",
    "        nums += 1\n",
    "        nums = list(str(nums))\n",
    "        return list(map(int, nums))"
   ]
  },
  {
   "cell_type": "code",
   "execution_count": 13,
   "id": "4b8efdac-6ddb-4720-997e-5b63af4addf5",
   "metadata": {},
   "outputs": [
    {
     "data": {
      "text/plain": [
       "[1, 2, 4]"
      ]
     },
     "execution_count": 13,
     "metadata": {},
     "output_type": "execute_result"
    }
   ],
   "source": [
    "answer = Solution1()\n",
    "answer.plusOne(digits1)"
   ]
  },
  {
   "cell_type": "code",
   "execution_count": 14,
   "id": "aa30605f-1468-4557-a301-5f063896d7a2",
   "metadata": {},
   "outputs": [
    {
     "data": {
      "text/plain": [
       "[1, 0]"
      ]
     },
     "execution_count": 14,
     "metadata": {},
     "output_type": "execute_result"
    }
   ],
   "source": [
    "answer.plusOne(digits2)"
   ]
  },
  {
   "cell_type": "code",
   "execution_count": 4,
   "id": "5c7d0718-82a1-41b9-af04-9b3ba20a08b7",
   "metadata": {},
   "outputs": [],
   "source": [
    "class Solution2:\n",
    "    def plusOne(self, digits: List[int]) -> List[int]:\n",
    "        Index = len(digits) - 1\n",
    "        while Index >= 0:\n",
    "            digits[Index] += 1\n",
    "            # 자릿수가 바뀌지 않았을 경우\n",
    "            if digits[Index] < 10:\n",
    "                break\n",
    "            # 여기로 왔다는 말은 Index가 가리키고 있는 게 10이라는 뜻\n",
    "            digits[Index] = 0\n",
    "            Index -= 1\n",
    "            if Index == -1:\n",
    "                digits.insert(0, 1)\n",
    "            # 자릿수가 바뀐 경우\n",
    "        return digits"
   ]
  },
  {
   "cell_type": "code",
   "execution_count": 5,
   "id": "2b23e772-80b1-4883-a419-dd824e1e284f",
   "metadata": {},
   "outputs": [],
   "source": [
    "class Solution3:\n",
    "    def plusOne(self, digits: List[int]) -> List[int]:\n",
    "        Index = len(digits)-1\n",
    "        while Index >= 0:\n",
    "            digits[Index] += 1\n",
    "            if digits[Index] != 10:\n",
    "                return digits\n",
    "            else:\n",
    "                digits[Index] = 0\n",
    "            Index -= 1\n",
    "        if digits[0] == 0:\n",
    "            digits.insert(0, 1)\n",
    "        return digits"
   ]
  }
 ],
 "metadata": {
  "kernelspec": {
   "display_name": "Python 3 (ipykernel)",
   "language": "python",
   "name": "python3"
  },
  "language_info": {
   "codemirror_mode": {
    "name": "ipython",
    "version": 3
   },
   "file_extension": ".py",
   "mimetype": "text/x-python",
   "name": "python",
   "nbconvert_exporter": "python",
   "pygments_lexer": "ipython3",
   "version": "3.9.7"
  }
 },
 "nbformat": 4,
 "nbformat_minor": 5
}

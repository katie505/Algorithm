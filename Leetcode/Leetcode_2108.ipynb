{
 "cells": [
  {
   "cell_type": "code",
   "execution_count": 4,
   "id": "89927a3b-78c6-4379-9c07-e6ed97eb9433",
   "metadata": {},
   "outputs": [],
   "source": [
    "words1 = [\"abc\",\"car\",\"ada\",\"racecar\",\"cool\"]\n",
    "words2 = [\"def\",\"ghi\"]"
   ]
  },
  {
   "cell_type": "code",
   "execution_count": 8,
   "id": "eb8a9157-f16c-475b-a9aa-eab1923435c3",
   "metadata": {},
   "outputs": [],
   "source": [
    "# My answer\n",
    "from typing import List\n",
    "class Solution1:\n",
    "    def firstPalindrome(self, words: List[str]) -> str:\n",
    "        result = \"\"\n",
    "        for word in words:\n",
    "            if word == word[::-1]:\n",
    "                result = word\n",
    "                break\n",
    "        \n",
    "        return result"
   ]
  },
  {
   "cell_type": "code",
   "execution_count": 9,
   "id": "86530563-b057-4f83-8c21-0743a56c6294",
   "metadata": {},
   "outputs": [],
   "source": [
    "answer = Solution1()"
   ]
  },
  {
   "cell_type": "code",
   "execution_count": 11,
   "id": "581461fe-413c-47a9-af2b-2ce5392205ca",
   "metadata": {},
   "outputs": [
    {
     "data": {
      "text/plain": [
       "'ada'"
      ]
     },
     "execution_count": 11,
     "metadata": {},
     "output_type": "execute_result"
    }
   ],
   "source": [
    "answer.firstPalindrome(words1)"
   ]
  },
  {
   "cell_type": "code",
   "execution_count": 12,
   "id": "a7f6221d-e30a-42b4-9bad-352c81dfa244",
   "metadata": {},
   "outputs": [
    {
     "data": {
      "text/plain": [
       "''"
      ]
     },
     "execution_count": 12,
     "metadata": {},
     "output_type": "execute_result"
    }
   ],
   "source": [
    "answer.firstPalindrome(words2)"
   ]
  },
  {
   "cell_type": "code",
   "execution_count": null,
   "id": "d16f0c0d-88cf-4458-8a48-620deaf4bcac",
   "metadata": {},
   "outputs": [],
   "source": []
  }
 ],
 "metadata": {
  "kernelspec": {
   "display_name": "Python 3 (ipykernel)",
   "language": "python",
   "name": "python3"
  },
  "language_info": {
   "codemirror_mode": {
    "name": "ipython",
    "version": 3
   },
   "file_extension": ".py",
   "mimetype": "text/x-python",
   "name": "python",
   "nbconvert_exporter": "python",
   "pygments_lexer": "ipython3",
   "version": "3.9.7"
  }
 },
 "nbformat": 4,
 "nbformat_minor": 5
}

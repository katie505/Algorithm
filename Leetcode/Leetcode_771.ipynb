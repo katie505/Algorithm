{
 "cells": [
  {
   "cell_type": "code",
   "execution_count": 1,
   "id": "ffce1f03-5886-4fb5-855e-314217968884",
   "metadata": {},
   "outputs": [],
   "source": [
    "jewels = \"aA\"\n",
    "stones = \"aAAbbbb\""
   ]
  },
  {
   "cell_type": "code",
   "execution_count": 2,
   "id": "ff29e59e-eeb3-42df-a1a7-bab6a7ba8436",
   "metadata": {},
   "outputs": [],
   "source": [
    "# My answer\n",
    "class Solution1:\n",
    "    def numJewelsInStones(self, jewels: str, stones: str) -> int:\n",
    "        je_list = list(jewels)\n",
    "        st_list = list(stones)\n",
    "        \n",
    "        nums = 0\n",
    "        for st in st_list:\n",
    "            if st in je_list:\n",
    "                nums += 1\n",
    "        \n",
    "        return nums"
   ]
  },
  {
   "cell_type": "code",
   "execution_count": 3,
   "id": "3cc83144-3ba4-46d9-a1f4-1f27d342425a",
   "metadata": {},
   "outputs": [
    {
     "data": {
      "text/plain": [
       "3"
      ]
     },
     "execution_count": 3,
     "metadata": {},
     "output_type": "execute_result"
    }
   ],
   "source": [
    "answer = Solution1()\n",
    "answer.numJewelsInStones(jewels, stones)"
   ]
  },
  {
   "cell_type": "code",
   "execution_count": 8,
   "id": "97980dab-8bbe-4b2c-8661-3f5cced6cd4d",
   "metadata": {},
   "outputs": [],
   "source": [
    "import collections\n",
    "class Solution2:\n",
    "    def numJewelsInStones(self, jewels: str, stones: str) -> int:\n",
    "        st_count = collections.Counter(stones)\n",
    "        answer = 0\n",
    "        \n",
    "        for key, value in st_count.items():\n",
    "            if key in jewels:\n",
    "                answer += value\n",
    "        \n",
    "        return answer"
   ]
  },
  {
   "cell_type": "code",
   "execution_count": 9,
   "id": "625c585d-0309-4a2a-8651-32be9b3e5599",
   "metadata": {},
   "outputs": [
    {
     "data": {
      "text/plain": [
       "3"
      ]
     },
     "execution_count": 9,
     "metadata": {},
     "output_type": "execute_result"
    }
   ],
   "source": [
    "answer = Solution2()\n",
    "answer.numJewelsInStones(jewels, stones)"
   ]
  },
  {
   "cell_type": "code",
   "execution_count": 17,
   "id": "8f6a09e4-e328-4eb3-8972-674fa80c57eb",
   "metadata": {},
   "outputs": [],
   "source": [
    "import collections\n",
    "class Solution3_1:\n",
    "    def numJewelsInStones(self, jewels: str, stones: str) -> int:\n",
    "        st_count = collections.Counter(stones)\n",
    "        \n",
    "        arr = [value for key, value in st_count.items() if key in jewels]\n",
    "               \n",
    "        return sum(arr)\n",
    "\n",
    "class Solution3_2:\n",
    "    def numJewelsInStones(self, jewels: str, stones: str) -> int:\n",
    "        d = collections.Counter(stones)\n",
    "        num = 0\n",
    "\n",
    "        for j in jewels:\n",
    "            num += d[j]\n",
    "\n",
    "        return num"
   ]
  },
  {
   "cell_type": "code",
   "execution_count": 18,
   "id": "11757fb6-e612-4be4-b1ea-b48507e18edf",
   "metadata": {},
   "outputs": [
    {
     "data": {
      "text/plain": [
       "3"
      ]
     },
     "execution_count": 18,
     "metadata": {},
     "output_type": "execute_result"
    }
   ],
   "source": [
    "answer = Solution3_1()\n",
    "answer.numJewelsInStones(jewels, stones)"
   ]
  },
  {
   "cell_type": "code",
   "execution_count": 19,
   "id": "b4cd458f-990f-41e2-b606-c86eff17df3d",
   "metadata": {},
   "outputs": [
    {
     "data": {
      "text/plain": [
       "3"
      ]
     },
     "execution_count": 19,
     "metadata": {},
     "output_type": "execute_result"
    }
   ],
   "source": [
    "answer = Solution3_2()\n",
    "answer.numJewelsInStones(jewels, stones)"
   ]
  },
  {
   "cell_type": "code",
   "execution_count": 14,
   "id": "ca2295a0-7b52-4beb-95d1-8c19d92cfb83",
   "metadata": {},
   "outputs": [],
   "source": [
    "class Solution4:\n",
    "    def numJewelsInStones(self, jewels: str, stones: str) -> int:\n",
    "        return sum(s in jewels for s in stones)"
   ]
  },
  {
   "cell_type": "code",
   "execution_count": 15,
   "id": "0a102b62-cccb-422f-beef-da200af1e9ee",
   "metadata": {},
   "outputs": [
    {
     "data": {
      "text/plain": [
       "3"
      ]
     },
     "execution_count": 15,
     "metadata": {},
     "output_type": "execute_result"
    }
   ],
   "source": [
    "answer = Solution4()\n",
    "answer.numJewelsInStones(jewels, stones)"
   ]
  }
 ],
 "metadata": {
  "kernelspec": {
   "display_name": "Python 3 (ipykernel)",
   "language": "python",
   "name": "python3"
  },
  "language_info": {
   "codemirror_mode": {
    "name": "ipython",
    "version": 3
   },
   "file_extension": ".py",
   "mimetype": "text/x-python",
   "name": "python",
   "nbconvert_exporter": "python",
   "pygments_lexer": "ipython3",
   "version": "3.9.7"
  }
 },
 "nbformat": 4,
 "nbformat_minor": 5
}

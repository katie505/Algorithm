{
 "cells": [
  {
   "cell_type": "code",
   "execution_count": 2,
   "id": "4af56b6a-b317-4736-ac1c-7a7ef67f39fe",
   "metadata": {},
   "outputs": [],
   "source": [
    "digits1 = '23'\n",
    "digits2 = ''\n",
    "digits3 = '2'"
   ]
  },
  {
   "cell_type": "code",
   "execution_count": 3,
   "id": "e57a2b40-6158-4afd-8efe-5cc4a9b403db",
   "metadata": {},
   "outputs": [],
   "source": [
    "from typing import List\n",
    "\n",
    "class Solution:\n",
    "    def letterCombinations(self, digits: str) -> List[str]:\n",
    "        def dfs(index, path):\n",
    "            if len(path) == len(digits):\n",
    "                result.append(path)\n",
    "                return\n",
    "            \n",
    "            for i in range(index, len(digits)):\n",
    "                for j in dic[digits[i]]:\n",
    "                    dfs(i + 1, path + j) # i는 조합을 위해 문자가 중복되지 않게 선택할 수 있게 해줌.\n",
    "                    # path + j로 넘겼기에 pop이나 join을 해줄 필요가 없다는 장점이있다.\n",
    "        if not digits:\n",
    "            return []\n",
    "        \n",
    "        dic = {\n",
    "            \"2\": \"abc\",\n",
    "            \"3\": \"def\",\n",
    "            \"4\": \"ghi\",\n",
    "            \"5\": \"jkl\",\n",
    "            \"6\": \"mno\",\n",
    "            \"7\": \"pqrs\",\n",
    "            \"8\": \"tuv\",\n",
    "            \"9\": \"wxyz\",\n",
    "        }\n",
    "        \n",
    "        result = []\n",
    "        dfs(0, \"\")\n",
    "        return result"
   ]
  },
  {
   "cell_type": "code",
   "execution_count": 4,
   "id": "fcc50eca-8e17-4782-a0f6-7787f4ff6f9f",
   "metadata": {},
   "outputs": [
    {
     "data": {
      "text/plain": [
       "['ad', 'ae', 'af', 'bd', 'be', 'bf', 'cd', 'ce', 'cf']"
      ]
     },
     "execution_count": 4,
     "metadata": {},
     "output_type": "execute_result"
    }
   ],
   "source": [
    "answer = Solution()\n",
    "answer.letterCombinations(digits1)"
   ]
  },
  {
   "cell_type": "code",
   "execution_count": 5,
   "id": "6c19d3f5-e37d-4483-b52e-a772e9b1452e",
   "metadata": {},
   "outputs": [
    {
     "data": {
      "text/plain": [
       "[]"
      ]
     },
     "execution_count": 5,
     "metadata": {},
     "output_type": "execute_result"
    }
   ],
   "source": [
    "answer.letterCombinations(digits2)"
   ]
  },
  {
   "cell_type": "code",
   "execution_count": 6,
   "id": "502aeded-0dc2-46f6-b152-878dd50ab64a",
   "metadata": {},
   "outputs": [
    {
     "data": {
      "text/plain": [
       "['a', 'b', 'c']"
      ]
     },
     "execution_count": 6,
     "metadata": {},
     "output_type": "execute_result"
    }
   ],
   "source": [
    "answer.letterCombinations(digits3)"
   ]
  }
 ],
 "metadata": {
  "kernelspec": {
   "display_name": "Python 3 (ipykernel)",
   "language": "python",
   "name": "python3"
  },
  "language_info": {
   "codemirror_mode": {
    "name": "ipython",
    "version": 3
   },
   "file_extension": ".py",
   "mimetype": "text/x-python",
   "name": "python",
   "nbconvert_exporter": "python",
   "pygments_lexer": "ipython3",
   "version": "3.9.7"
  }
 },
 "nbformat": 4,
 "nbformat_minor": 5
}

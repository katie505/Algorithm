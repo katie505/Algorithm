{
 "cells": [
  {
   "cell_type": "code",
   "execution_count": 3,
   "id": "feef2f61-7eea-4483-b3b9-5ad94baca768",
   "metadata": {},
   "outputs": [],
   "source": [
    "piles1 = [2,4,1,2,7,8]\n",
    "piles2 = [2,4,5]\n",
    "piles3 = [9,8,7,6,5,1,2,3,4]"
   ]
  },
  {
   "cell_type": "code",
   "execution_count": 4,
   "id": "481f658a-a566-4e85-8cc1-2c2636d6bd4a",
   "metadata": {},
   "outputs": [],
   "source": [
    "from typing import List\n",
    "class Solution:\n",
    "    def maxCoins(self, piles: List[int]) -> int:\n",
    "        cnt = len(piles) / 3\n",
    "        piles = sorted(piles, reverse = True)\n",
    "        answer = 0\n",
    "        \n",
    "        for i in range(len(piles)):\n",
    "            if not cnt: \n",
    "                return answer\n",
    "            else:\n",
    "                if i % 2 == 1:\n",
    "                    answer += piles[i]\n",
    "                    cnt -= 1\n",
    "        return answer"
   ]
  },
  {
   "cell_type": "code",
   "execution_count": 6,
   "id": "66e1de63-41d0-45a9-857c-c163a55bd45b",
   "metadata": {},
   "outputs": [
    {
     "data": {
      "text/plain": [
       "9"
      ]
     },
     "execution_count": 6,
     "metadata": {},
     "output_type": "execute_result"
    }
   ],
   "source": [
    "answer = Solution()\n",
    "answer.maxCoins(piles1)"
   ]
  },
  {
   "cell_type": "code",
   "execution_count": 7,
   "id": "aa2196dc-bc55-4b73-9596-7474af491352",
   "metadata": {},
   "outputs": [
    {
     "data": {
      "text/plain": [
       "4"
      ]
     },
     "execution_count": 7,
     "metadata": {},
     "output_type": "execute_result"
    }
   ],
   "source": [
    "answer.maxCoins(piles2)"
   ]
  },
  {
   "cell_type": "code",
   "execution_count": 8,
   "id": "bb6ad593-ea1a-4a8c-a0ca-7e073f9e9d83",
   "metadata": {},
   "outputs": [
    {
     "data": {
      "text/plain": [
       "18"
      ]
     },
     "execution_count": 8,
     "metadata": {},
     "output_type": "execute_result"
    }
   ],
   "source": [
    "answer.maxCoins(piles3)"
   ]
  }
 ],
 "metadata": {
  "kernelspec": {
   "display_name": "Python 3 (ipykernel)",
   "language": "python",
   "name": "python3"
  },
  "language_info": {
   "codemirror_mode": {
    "name": "ipython",
    "version": 3
   },
   "file_extension": ".py",
   "mimetype": "text/x-python",
   "name": "python",
   "nbconvert_exporter": "python",
   "pygments_lexer": "ipython3",
   "version": "3.9.7"
  }
 },
 "nbformat": 4,
 "nbformat_minor": 5
}

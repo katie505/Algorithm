{
 "cells": [
  {
   "cell_type": "code",
   "execution_count": 24,
   "id": "84a393d9-83f6-4809-9245-5a9a60ce6bdf",
   "metadata": {},
   "outputs": [],
   "source": [
    "s = \"A man, a plan, a canal: Panama\""
   ]
  },
  {
   "cell_type": "code",
   "execution_count": 25,
   "id": "66b3f05c-7f94-45a1-be32-139d450d26b8",
   "metadata": {},
   "outputs": [],
   "source": [
    "# My answer\n",
    "import re\n",
    "class Solution1:\n",
    "    def isPalindrome(self, s: str) -> bool:\n",
    "        s = s.lower()\n",
    "        s = re.sub('[^a-z0-9]','',s)\n",
    "        # s = ''.join(filter(str.isalnum, s))\n",
    "        \n",
    "        return s == s[::-1]"
   ]
  },
  {
   "cell_type": "code",
   "execution_count": 26,
   "id": "d6f9e775-24e1-483d-88a8-3f9dc491d7e8",
   "metadata": {},
   "outputs": [
    {
     "data": {
      "text/plain": [
       "True"
      ]
     },
     "execution_count": 26,
     "metadata": {},
     "output_type": "execute_result"
    }
   ],
   "source": [
    "answer = Solution1()\n",
    "answer.isPalindrome(s)"
   ]
  },
  {
   "cell_type": "code",
   "execution_count": 27,
   "id": "8405f03d-6205-475b-8576-bd60a61b49b3",
   "metadata": {},
   "outputs": [],
   "source": [
    "class Solution2:\n",
    "    def isPalindrome(self, s: str) -> bool: \n",
    "        i, j = 0, len(s)-1\n",
    "        Answer = True\n",
    "        while i < j:\n",
    "            if s[i] == s[j]:\n",
    "                i += 1\n",
    "                j -= 1\n",
    "            else:\n",
    "                Answer = False\n",
    "               \n",
    "        return Answer"
   ]
  },
  {
   "cell_type": "code",
   "execution_count": null,
   "id": "17ea072f-64f8-40fc-8181-8e676905bc9a",
   "metadata": {},
   "outputs": [],
   "source": [
    "answer = Solution2()\n",
    "answer.isPalindrome(s)"
   ]
  }
 ],
 "metadata": {
  "kernelspec": {
   "display_name": "Python 3 (ipykernel)",
   "language": "python",
   "name": "python3"
  },
  "language_info": {
   "codemirror_mode": {
    "name": "ipython",
    "version": 3
   },
   "file_extension": ".py",
   "mimetype": "text/x-python",
   "name": "python",
   "nbconvert_exporter": "python",
   "pygments_lexer": "ipython3",
   "version": "3.9.7"
  }
 },
 "nbformat": 4,
 "nbformat_minor": 5
}

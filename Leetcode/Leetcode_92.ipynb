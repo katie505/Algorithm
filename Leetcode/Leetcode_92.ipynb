{
 "cells": [
  {
   "cell_type": "code",
   "execution_count": 41,
   "id": "c2d41b95-34c9-421b-baf5-cfd184dedb3e",
   "metadata": {},
   "outputs": [],
   "source": [
    "class ListNode:\n",
    "    def __init__(self, val=0, next=None):\n",
    "        self.val = val\n",
    "        self.next = next\n",
    "    \n",
    "    def _print_all(self):\n",
    "        while self:\n",
    "            print(self.val, end = ' ')\n",
    "            self = self.next\n",
    "        print()"
   ]
  },
  {
   "cell_type": "code",
   "execution_count": 42,
   "id": "1930987f-02a4-42fc-95c0-1dc68c8fa6c8",
   "metadata": {},
   "outputs": [],
   "source": [
    "from typing import Optional\n",
    "class Solution:\n",
    "    def reverseBetween1(self, head: Optional[ListNode], left: int, right: int) -> Optional[ListNode]:\n",
    "        if not head or left == right:\n",
    "            return head\n",
    "\n",
    "        root = start = ListNode(None)\n",
    "        root.next = head\n",
    "\n",
    "        # start, end 지정\n",
    "        for _ in range(left - 1):\n",
    "            start = start.next\n",
    "        end = start.next\n",
    "\n",
    "        # 반복하면서 노드 차례대로 뒤집기\n",
    "        for _ in range(right - left):\n",
    "            tmp, start.next, end.next = start.next, end.next, end.next.next\n",
    "            start.next.next = tmp\n",
    "\n",
    "        return root.next\n",
    "        \n",
    "    def reverseBetween2(self, head: Optional[ListNode], left: int, right: int) -> Optional[ListNode]:\n",
    "        list_head = []\n",
    "        \n",
    "        while head != None:\n",
    "            list_head.append(head.val)\n",
    "            head = head.next\n",
    "            \n",
    "        list_head[left-1:right] = list_head[left-1:right][::-1]\n",
    "        \n",
    "        answer = ListNode(None)\n",
    "        result = answer\n",
    "        \n",
    "        for num in list_head:\n",
    "            answer.next = ListNode(num)\n",
    "            answer = answer.next\n",
    "            \n",
    "        return result.next"
   ]
  },
  {
   "cell_type": "code",
   "execution_count": 43,
   "id": "c851480d-3b1e-41af-b39c-aae424024f04",
   "metadata": {},
   "outputs": [],
   "source": [
    "head1 = ListNode(1,ListNode(2,ListNode(3, ListNode(4, ListNode(5, None)))))\n",
    "left1, right1 = 2, 4"
   ]
  },
  {
   "cell_type": "code",
   "execution_count": 44,
   "id": "2442faf5-3db1-432d-93a9-f283483c73f7",
   "metadata": {},
   "outputs": [
    {
     "name": "stdout",
     "output_type": "stream",
     "text": [
      "1 4 3 2 5 \n"
     ]
    }
   ],
   "source": [
    "answer = Solution()\n",
    "result1 = answer.reverseBetween1(head1, left1, right1)\n",
    "result1._print_all()"
   ]
  },
  {
   "cell_type": "code",
   "execution_count": 45,
   "id": "00b5b61a-2949-412d-8a69-0c04a91c9cd4",
   "metadata": {},
   "outputs": [],
   "source": [
    "head2 = ListNode(1,ListNode(2,ListNode(3,ListNode(4,ListNode(5, ListNode(6, ListNode(7, None)))))))\n",
    "left2, right2 = 2, 6"
   ]
  },
  {
   "cell_type": "code",
   "execution_count": 46,
   "id": "048869d9-6387-41ed-9651-602317057579",
   "metadata": {},
   "outputs": [
    {
     "name": "stdout",
     "output_type": "stream",
     "text": [
      "1 6 5 4 3 2 7 \n"
     ]
    }
   ],
   "source": [
    "answer = Solution()\n",
    "result1 = answer.reverseBetween2(head2, left2, right2)\n",
    "result1._print_all()"
   ]
  }
 ],
 "metadata": {
  "kernelspec": {
   "display_name": "Python 3 (ipykernel)",
   "language": "python",
   "name": "python3"
  },
  "language_info": {
   "codemirror_mode": {
    "name": "ipython",
    "version": 3
   },
   "file_extension": ".py",
   "mimetype": "text/x-python",
   "name": "python",
   "nbconvert_exporter": "python",
   "pygments_lexer": "ipython3",
   "version": "3.9.7"
  }
 },
 "nbformat": 4,
 "nbformat_minor": 5
}

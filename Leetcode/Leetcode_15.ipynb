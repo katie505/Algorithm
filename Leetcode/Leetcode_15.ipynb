{
 "cells": [
  {
   "cell_type": "code",
   "execution_count": 27,
   "id": "26a14ed8-9564-4870-b8f9-54cf405d9aff",
   "metadata": {},
   "outputs": [],
   "source": [
    "nums = [-1,0,1,2,-1,-4]"
   ]
  },
  {
   "cell_type": "code",
   "execution_count": 28,
   "id": "d94cbe5d-bf3d-4319-b417-599d95e0dbd9",
   "metadata": {},
   "outputs": [],
   "source": [
    "from typing import List"
   ]
  },
  {
   "cell_type": "code",
   "execution_count": 37,
   "id": "99ef7338-bd0b-4c1e-bbe1-19f65a2f915b",
   "metadata": {},
   "outputs": [],
   "source": [
    "class Solution:\n",
    "    # Two - Pointer\n",
    "    def threeSum1(self, nums: List[int]) -> List[List[int]]:\n",
    "        result = []\n",
    "        nums.sort()\n",
    "        for i in range(len(nums)):\n",
    "            # 중복제거\n",
    "            if i > 0 and nums[i] == nums[i - 1]:\n",
    "                continue\n",
    "                \n",
    "            l, r = i + 1, len(nums) - 1\n",
    "            while l < r:\n",
    "                s = nums[i] + nums[l] + nums[r]\n",
    "                if s < 0:\n",
    "                    l += 1\n",
    "                elif s > 0:\n",
    "                    r -= 1\n",
    "                else:\n",
    "                    result.append([nums[i], nums[l], nums[r]]) \n",
    "                    \n",
    "                    # 중복 검사를 따로 진행해서 쓸데없는 연산을 없앨 수 있다.\n",
    "                    # 탈출조건 : 같은 값이 안 나올때까지\n",
    "                    while l < r and nums[l] == nums[l + 1]:\n",
    "                        l += 1\n",
    "                    while l < r and nums[r] == nums[r - 1]:\n",
    "                        r -= 1\n",
    "                        \n",
    "                    l += 1\n",
    "                    r -= 1\n",
    "        return result\n",
    "        "
   ]
  },
  {
   "cell_type": "code",
   "execution_count": 39,
   "id": "f82a5edc-ec08-4fdc-98b9-ee8c2fda62c1",
   "metadata": {},
   "outputs": [
    {
     "data": {
      "text/plain": [
       "[[-1, -1, 2], [-1, 0, 1]]"
      ]
     },
     "execution_count": 39,
     "metadata": {},
     "output_type": "execute_result"
    }
   ],
   "source": [
    "answer = Solution()\n",
    "answer.threeSum1(nums)"
   ]
  }
 ],
 "metadata": {
  "kernelspec": {
   "display_name": "Python 3 (ipykernel)",
   "language": "python",
   "name": "python3"
  },
  "language_info": {
   "codemirror_mode": {
    "name": "ipython",
    "version": 3
   },
   "file_extension": ".py",
   "mimetype": "text/x-python",
   "name": "python",
   "nbconvert_exporter": "python",
   "pygments_lexer": "ipython3",
   "version": "3.9.7"
  }
 },
 "nbformat": 4,
 "nbformat_minor": 5
}

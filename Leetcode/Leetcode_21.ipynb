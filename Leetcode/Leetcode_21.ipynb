{
 "cells": [
  {
   "cell_type": "code",
   "execution_count": 102,
   "id": "6424181d-5cfe-46e0-86e1-a4b964ab0925",
   "metadata": {},
   "outputs": [],
   "source": [
    "from typing import Optional\n",
    "class ListNode:\n",
    "    def __init__(self, val=0, next=None):\n",
    "        self.val = val\n",
    "        self.next = next\n",
    "    \n",
    "    def _print_all(self):\n",
    "        while self:\n",
    "            print(self.val, end = ' ')\n",
    "            self = self.next\n",
    "        print()\n",
    "\n",
    "class Solution:\n",
    "    def mergeTwoLists(self, list1: Optional[ListNode], list2: Optional[ListNode]) -> Optional[ListNode]:\n",
    "        head = ListNode(-1)\n",
    "        result = head\n",
    "        \n",
    "        while list1 and list2:\n",
    "            if list1.val <= list2.val:\n",
    "                result.next = list1 \n",
    "                list1 = list1.next \n",
    "            else:\n",
    "                result.next = list2 \n",
    "                list2 = list2.next\n",
    "            \n",
    "            result = result.next \n",
    "        \n",
    "        \n",
    "        if list1!=None:\n",
    "            resut.next = list1\n",
    "        \n",
    "        else:\n",
    "            result.next = list2\n",
    "        \n",
    "        return head.next"
   ]
  },
  {
   "cell_type": "code",
   "execution_count": 103,
   "id": "88397eaa-fba4-43da-942e-c7985b14d910",
   "metadata": {},
   "outputs": [],
   "source": [
    "head1 = ListNode(4)\n",
    "node1 = ListNode(2, head1)\n",
    "list1 = ListNode(1, node1)"
   ]
  },
  {
   "cell_type": "code",
   "execution_count": 104,
   "id": "579613b2-68f6-4513-8c6f-7f9aabb80135",
   "metadata": {},
   "outputs": [],
   "source": [
    "head2 = ListNode(4)\n",
    "node2 = ListNode(3, head2)\n",
    "list2 = ListNode(1, node2)"
   ]
  },
  {
   "cell_type": "code",
   "execution_count": 105,
   "id": "e297ba9a-61b8-4fd7-8c2d-97584bc44692",
   "metadata": {},
   "outputs": [
    {
     "name": "stdout",
     "output_type": "stream",
     "text": [
      "1 1 2 3 4 4 \n"
     ]
    }
   ],
   "source": [
    "answer = Solution()\n",
    "result = answer.mergeTwoLists(list1, list2)\n",
    "result._print_all()"
   ]
  }
 ],
 "metadata": {
  "kernelspec": {
   "display_name": "Python 3 (ipykernel)",
   "language": "python",
   "name": "python3"
  },
  "language_info": {
   "codemirror_mode": {
    "name": "ipython",
    "version": 3
   },
   "file_extension": ".py",
   "mimetype": "text/x-python",
   "name": "python",
   "nbconvert_exporter": "python",
   "pygments_lexer": "ipython3",
   "version": "3.9.7"
  }
 },
 "nbformat": 4,
 "nbformat_minor": 5
}

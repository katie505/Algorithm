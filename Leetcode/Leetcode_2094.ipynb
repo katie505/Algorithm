{
 "cells": [
  {
   "cell_type": "code",
   "execution_count": 20,
   "id": "7a75efd7-aecb-431c-8a43-b69672253e1c",
   "metadata": {},
   "outputs": [],
   "source": [
    "digits1 = [2,1,3,0]\n",
    "digits2 = [2,2,8,8,2]"
   ]
  },
  {
   "cell_type": "code",
   "execution_count": 21,
   "id": "4219d659-e1b7-4e3b-8421-7cb8e9108ed6",
   "metadata": {},
   "outputs": [],
   "source": [
    "# My answer\n",
    "from typing import List\n",
    "class Solution1:\n",
    "    def findEvenNumbers(self, digits: List[int]) -> List[int]:\n",
    "        First = [i for i, digit in enumerate(digits) if digit != 0]\n",
    "        Second = list(range(0, len(digits)))\n",
    "        Last = [i for i, digit in enumerate(digits) if digit %2 == 0]\n",
    "        Answer = set()\n",
    "        for i in First:\n",
    "            for j in Second:\n",
    "                for k in Last:\n",
    "                    if i != j and i != k and j != k:\n",
    "                        Answer.add(digits[i]*100 + digits[j]*10 + digits[k])\n",
    "        Answer = list(Answer)\n",
    "        Answer.sort()\n",
    "        return Answer"
   ]
  },
  {
   "cell_type": "code",
   "execution_count": 22,
   "id": "45914152-417f-4196-84d9-abcd487e403c",
   "metadata": {},
   "outputs": [
    {
     "data": {
      "text/plain": [
       "[102, 120, 130, 132, 210, 230, 302, 310, 312, 320]"
      ]
     },
     "execution_count": 22,
     "metadata": {},
     "output_type": "execute_result"
    }
   ],
   "source": [
    "answer = Solution1()\n",
    "answer.findEvenNumbers(digits1)"
   ]
  },
  {
   "cell_type": "code",
   "execution_count": 23,
   "id": "e8b08d0d-a1c3-4c8a-9b0f-fbc83dab2869",
   "metadata": {},
   "outputs": [
    {
     "data": {
      "text/plain": [
       "[222, 228, 282, 288, 822, 828, 882]"
      ]
     },
     "execution_count": 23,
     "metadata": {},
     "output_type": "execute_result"
    }
   ],
   "source": [
    "answer = Solution1()\n",
    "answer.findEvenNumbers(digits2)"
   ]
  }
 ],
 "metadata": {
  "kernelspec": {
   "display_name": "Python 3 (ipykernel)",
   "language": "python",
   "name": "python3"
  },
  "language_info": {
   "codemirror_mode": {
    "name": "ipython",
    "version": 3
   },
   "file_extension": ".py",
   "mimetype": "text/x-python",
   "name": "python",
   "nbconvert_exporter": "python",
   "pygments_lexer": "ipython3",
   "version": "3.9.7"
  }
 },
 "nbformat": 4,
 "nbformat_minor": 5
}

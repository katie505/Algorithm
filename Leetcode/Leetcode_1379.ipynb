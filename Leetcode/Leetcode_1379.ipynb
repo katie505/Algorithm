{
 "cells": [
  {
   "cell_type": "code",
   "execution_count": 22,
   "id": "da15e651-2ef0-4549-a013-ec9771fb46e8",
   "metadata": {},
   "outputs": [],
   "source": [
    "class TreeNode:\n",
    "     def __init__(self, x):\n",
    "        self.val = x\n",
    "        self.left = None\n",
    "        self.right = None"
   ]
  },
  {
   "cell_type": "code",
   "execution_count": 23,
   "id": "6c3fa93c-07db-4b6e-9e6f-a14f7c365938",
   "metadata": {},
   "outputs": [],
   "source": [
    "rootnode = TreeNode(7)\n",
    "node1 = TreeNode(4)\n",
    "node2 = TreeNode(3)\n",
    "node3 = TreeNode(6)\n",
    "node4 = TreeNode(19)\n",
    "clone = rootnode"
   ]
  },
  {
   "cell_type": "code",
   "execution_count": 24,
   "id": "8fed9ea0-bb5b-4bec-a9b0-422b981e52d4",
   "metadata": {},
   "outputs": [],
   "source": [
    "rootnode.left = node1\n",
    "rootnode.right = node2\n",
    "node2.left = node3\n",
    "node2.right = node4\n",
    "clone = rootnode"
   ]
  },
  {
   "cell_type": "code",
   "execution_count": 29,
   "id": "ec2133f6-817e-4fe3-8c43-b6f6adc87eaf",
   "metadata": {},
   "outputs": [],
   "source": [
    "class Solution():\n",
    "    def getTargetCopy(self, original: TreeNode, cloned: TreeNode, target: TreeNode) -> TreeNode:\n",
    "        def it(node):\n",
    "            if node:\n",
    "                yield node\n",
    "                yield from it(node.left)\n",
    "                yield from it(node.right)\n",
    "                \n",
    "        for n1, n2 in zip(it(original), it(cloned)):\n",
    "            if n1 == target:\n",
    "                return n2"
   ]
  },
  {
   "cell_type": "code",
   "execution_count": 30,
   "id": "86e590e0-d4a1-42a7-bd8c-240688046b20",
   "metadata": {},
   "outputs": [],
   "source": [
    "target = TreeNode(3)"
   ]
  },
  {
   "cell_type": "code",
   "execution_count": 31,
   "id": "b3d66817-481b-48a0-a866-7010432733a8",
   "metadata": {},
   "outputs": [
    {
     "data": {
      "text/plain": [
       "<__main__.TreeNode at 0x1ff9e9cf0d0>"
      ]
     },
     "execution_count": 31,
     "metadata": {},
     "output_type": "execute_result"
    }
   ],
   "source": [
    "answer = Solution()\n",
    "answer.getTargetCopy(rootnode, clone, target)"
   ]
  }
 ],
 "metadata": {
  "kernelspec": {
   "display_name": "Python 3 (ipykernel)",
   "language": "python",
   "name": "python3"
  },
  "language_info": {
   "codemirror_mode": {
    "name": "ipython",
    "version": 3
   },
   "file_extension": ".py",
   "mimetype": "text/x-python",
   "name": "python",
   "nbconvert_exporter": "python",
   "pygments_lexer": "ipython3",
   "version": "3.9.7"
  }
 },
 "nbformat": 4,
 "nbformat_minor": 5
}

{
 "cells": [
  {
   "cell_type": "code",
   "execution_count": 1,
   "id": "e0abba1a-4e12-4deb-a07a-97c034e61ddb",
   "metadata": {},
   "outputs": [],
   "source": [
    "class TreeNode:\n",
    "     def __init__(self, x):\n",
    "        self.val = x\n",
    "        self.left = None\n",
    "        self.right = None"
   ]
  },
  {
   "cell_type": "code",
   "execution_count": 2,
   "id": "24f1b008-fefd-4a7b-970c-b2ce77c20508",
   "metadata": {},
   "outputs": [],
   "source": [
    "root = TreeNode(8)\n",
    "node1 = TreeNode(3)\n",
    "node2 = TreeNode(1)\n",
    "node3 = TreeNode(6)\n",
    "node4 = TreeNode(4)\n",
    "node5 = TreeNode(7)\n",
    "node6 = TreeNode(10)\n",
    "node7 = TreeNode(14)\n",
    "node8 = TreeNode(13)"
   ]
  },
  {
   "cell_type": "code",
   "execution_count": 3,
   "id": "ca5ec711-11aa-40b0-8648-cfa8e50b1d01",
   "metadata": {},
   "outputs": [],
   "source": [
    "root.left = node1\n",
    "root.right = node6\n",
    "node1.left = node2\n",
    "node1.right = node3\n",
    "node3.left = node4\n",
    "node3.right = node5\n",
    "node6.right = node7\n",
    "node7.left = node8"
   ]
  },
  {
   "cell_type": "code",
   "execution_count": 5,
   "id": "6244f88c-f257-4795-be71-27ad418bc2c2",
   "metadata": {},
   "outputs": [],
   "source": [
    "from typing import Optional\n",
    "\n",
    "class Solution:\n",
    "    def maxAncestorDiff(self, root: Optional[TreeNode]) -> int:\n",
    "        def recur(node, min_val, max_val):\n",
    "            if node is None:\n",
    "                return 0\n",
    "            \n",
    "            max_diff = max(abs(min_val - node.val), abs(max_val - node.val))            \n",
    "            min_val = min(min_val, node.val)\n",
    "            max_val = max(max_val, node.val)\n",
    "            return max(recur(node.left, min_val, max_val), recur(node.right, min_val, max_val), max_diff)\n",
    "        \n",
    "        return recur(root, root.val, root.val)\n",
    "        "
   ]
  },
  {
   "cell_type": "code",
   "execution_count": 6,
   "id": "a8736be2-e5b8-4b90-9720-7a821c12ace3",
   "metadata": {},
   "outputs": [
    {
     "data": {
      "text/plain": [
       "7"
      ]
     },
     "execution_count": 6,
     "metadata": {},
     "output_type": "execute_result"
    }
   ],
   "source": [
    "answer = Solution()\n",
    "answer.maxAncestorDiff(root)"
   ]
  }
 ],
 "metadata": {
  "kernelspec": {
   "display_name": "Python 3 (ipykernel)",
   "language": "python",
   "name": "python3"
  },
  "language_info": {
   "codemirror_mode": {
    "name": "ipython",
    "version": 3
   },
   "file_extension": ".py",
   "mimetype": "text/x-python",
   "name": "python",
   "nbconvert_exporter": "python",
   "pygments_lexer": "ipython3",
   "version": "3.9.7"
  }
 },
 "nbformat": 4,
 "nbformat_minor": 5
}

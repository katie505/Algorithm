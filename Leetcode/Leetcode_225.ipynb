{
 "cells": [
  {
   "cell_type": "code",
   "execution_count": 10,
   "id": "191ecddb-aab4-4ff8-a061-37c584abb1ec",
   "metadata": {},
   "outputs": [],
   "source": [
    "class MyStack1:\n",
    "\n",
    "    def __init__(self):\n",
    "        self.stack = []       \n",
    "\n",
    "    def push(self, x: int) -> None:\n",
    "        self.stack.append(x)\n",
    "\n",
    "    def pop(self) -> int:\n",
    "        return self.stack.pop()\n",
    "\n",
    "    def top(self) -> int:\n",
    "        return self.stack[-1]\n",
    "\n",
    "    def empty(self) -> bool:\n",
    "        if self.stack:\n",
    "            return False\n",
    "        else:\n",
    "            return True\n",
    "        # return len(self."
   ]
  },
  {
   "cell_type": "code",
   "execution_count": 11,
   "id": "e7f918c1-ecdb-4c8d-b345-ea465ad89747",
   "metadata": {},
   "outputs": [
    {
     "data": {
      "text/plain": [
       "False"
      ]
     },
     "execution_count": 11,
     "metadata": {},
     "output_type": "execute_result"
    }
   ],
   "source": [
    "myStack1 = MyStack()\n",
    "myStack1.push(1)\n",
    "myStack1.push(2)\n",
    "myStack1.top()\n",
    "myStack1.pop()\n",
    "myStack1.empty()"
   ]
  },
  {
   "cell_type": "code",
   "execution_count": 16,
   "id": "bc597f4a-0a64-419e-b629-712f7c132fdd",
   "metadata": {},
   "outputs": [],
   "source": [
    "from collections import deque\n",
    "\n",
    "class MyStack2:\n",
    "\n",
    "    def __init__(self):\n",
    "        self.queue = collections.deque()    \n",
    "\n",
    "    def push(self, x: int) -> None:\n",
    "        self.queue.append(x)\n",
    "        \n",
    "        # 원소 뒤집기\n",
    "        for _ in range(len(self.queue) - 1):\n",
    "            self.queue.append(self.queue.popleft()) \n",
    "\n",
    "    def pop(self) -> int:\n",
    "        return self.queue.popleft()\n",
    "\n",
    "    def top(self) -> int:\n",
    "        return self.queue[0]\n",
    "\n",
    "    def empty(self) -> bool:\n",
    "        return len(self.queue) == 0"
   ]
  },
  {
   "cell_type": "code",
   "execution_count": 17,
   "id": "e1fa1669-647d-4c97-844f-855def5f1255",
   "metadata": {},
   "outputs": [
    {
     "data": {
      "text/plain": [
       "False"
      ]
     },
     "execution_count": 17,
     "metadata": {},
     "output_type": "execute_result"
    }
   ],
   "source": [
    "myStack2 = MyStack()\n",
    "myStack2.push(1)\n",
    "myStack2.push(2)\n",
    "myStack2.top()\n",
    "myStack2.pop()\n",
    "myStack2.empty()"
   ]
  }
 ],
 "metadata": {
  "kernelspec": {
   "display_name": "Python 3 (ipykernel)",
   "language": "python",
   "name": "python3"
  },
  "language_info": {
   "codemirror_mode": {
    "name": "ipython",
    "version": 3
   },
   "file_extension": ".py",
   "mimetype": "text/x-python",
   "name": "python",
   "nbconvert_exporter": "python",
   "pygments_lexer": "ipython3",
   "version": "3.9.7"
  }
 },
 "nbformat": 4,
 "nbformat_minor": 5
}

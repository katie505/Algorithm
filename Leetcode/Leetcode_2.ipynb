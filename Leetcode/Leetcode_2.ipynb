{
 "cells": [
  {
   "cell_type": "code",
   "execution_count": 11,
   "id": "d8d223fc-4818-4886-a173-44f5a9fe5841",
   "metadata": {},
   "outputs": [],
   "source": [
    "class ListNode:\n",
    "    def __init__(self, val=0, next=None):\n",
    "        self.val = val\n",
    "        self.next = next\n",
    "    \n",
    "    def _print_all(self):\n",
    "        while self:\n",
    "            print(self.val, end = ' ')\n",
    "            self = self.next\n",
    "        print()"
   ]
  },
  {
   "cell_type": "code",
   "execution_count": 12,
   "id": "71e33bee-34fe-4ab8-971b-be5622136869",
   "metadata": {},
   "outputs": [],
   "source": [
    "from typing import Optional\n",
    "class Solution:\n",
    "    def addTwoNumbers(self, l1: Optional[ListNode], l2: Optional[ListNode]) -> Optional[ListNode]:\n",
    "        num1 = \"\"\n",
    "        num2 = \"\"\n",
    "        \n",
    "        now1 = l1\n",
    "        while now1:\n",
    "            num1 = str(now1.val) + num1\n",
    "            now1 = now1.next\n",
    "            \n",
    "        now2 = l2\n",
    "        while now2:\n",
    "            num2 = str(now2.val) + num2\n",
    "            now2 = now2.next\n",
    "        \n",
    "        total = list(str(int(num1) + int(num2)))\n",
    "        \n",
    "        answer = ListNode(total[0])\n",
    "        \n",
    "        for i in range(1, len(total)):\n",
    "            temp = ListNode(total[i], answer)\n",
    "            answer = temp\n",
    "            \n",
    "        return answer        "
   ]
  },
  {
   "cell_type": "code",
   "execution_count": 13,
   "id": "badda038-6151-4205-bb74-7e0e928b3e46",
   "metadata": {},
   "outputs": [],
   "source": [
    "head1 = ListNode(3)\n",
    "node1 = ListNode(4, head1)\n",
    "l1 = ListNode(2, node1)\n",
    "\n",
    "head2 = ListNode(4)\n",
    "node2 = ListNode(6, head2)\n",
    "l2 = ListNode(5, node2)"
   ]
  },
  {
   "cell_type": "code",
   "execution_count": 16,
   "id": "8df9d7d9-e2a8-44ed-8ae7-e6c07d9f2cd0",
   "metadata": {},
   "outputs": [
    {
     "name": "stdout",
     "output_type": "stream",
     "text": [
      "7 0 8 \n"
     ]
    }
   ],
   "source": [
    "answer = Solution()\n",
    "result = answer.addTwoNumbers(l1, l2)\n",
    "result._print_all()"
   ]
  }
 ],
 "metadata": {
  "kernelspec": {
   "display_name": "Python 3 (ipykernel)",
   "language": "python",
   "name": "python3"
  },
  "language_info": {
   "codemirror_mode": {
    "name": "ipython",
    "version": 3
   },
   "file_extension": ".py",
   "mimetype": "text/x-python",
   "name": "python",
   "nbconvert_exporter": "python",
   "pygments_lexer": "ipython3",
   "version": "3.9.7"
  }
 },
 "nbformat": 4,
 "nbformat_minor": 5
}

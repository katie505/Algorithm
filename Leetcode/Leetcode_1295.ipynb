{
 "cells": [
  {
   "cell_type": "code",
   "execution_count": 1,
   "id": "130067e9-ffee-4596-a821-987e57a31b9e",
   "metadata": {},
   "outputs": [],
   "source": [
    "nums = [12,345,2,6,7896]"
   ]
  },
  {
   "cell_type": "code",
   "execution_count": 6,
   "id": "76beecac-6f78-47b1-a07e-464aa832a436",
   "metadata": {},
   "outputs": [],
   "source": [
    "# My answer\n",
    "import math\n",
    "from typing import List\n",
    "\n",
    "class Solution1:\n",
    "    def findNumbers(self, nums: List[int]) -> int:\n",
    "        count = 0\n",
    "        for num in nums:\n",
    "            digit = int(math.log10(num))+1\n",
    "            if digit % 2 == 0:\n",
    "                count += 1\n",
    "        \n",
    "        return count"
   ]
  },
  {
   "cell_type": "code",
   "execution_count": 7,
   "id": "ac33f0a6-22d7-4954-a6e8-8d4aa49e99dd",
   "metadata": {},
   "outputs": [
    {
     "data": {
      "text/plain": [
       "2"
      ]
     },
     "execution_count": 7,
     "metadata": {},
     "output_type": "execute_result"
    }
   ],
   "source": [
    "answer = Solution1()\n",
    "answer.findNumbers(nums)"
   ]
  },
  {
   "cell_type": "code",
   "execution_count": 8,
   "id": "1214cff8-adb8-4e71-be17-2e76165cabfc",
   "metadata": {},
   "outputs": [],
   "source": [
    "class Solution2:\n",
    "    def findNumbers(self, nums: List[int]) -> int:\n",
    "        Res = [len(str(num)) for num in nums]\n",
    "        Answer = 0\n",
    "        for n in Res:\n",
    "            if n%2 == 0:\n",
    "                Answer += 1\n",
    "        return Answer"
   ]
  },
  {
   "cell_type": "code",
   "execution_count": 9,
   "id": "ec305c0f-4599-47db-a682-f62dbe7b7a9e",
   "metadata": {},
   "outputs": [
    {
     "data": {
      "text/plain": [
       "2"
      ]
     },
     "execution_count": 9,
     "metadata": {},
     "output_type": "execute_result"
    }
   ],
   "source": [
    "answer = Solution2()\n",
    "answer.findNumbers(nums)"
   ]
  }
 ],
 "metadata": {
  "kernelspec": {
   "display_name": "Python 3 (ipykernel)",
   "language": "python",
   "name": "python3"
  },
  "language_info": {
   "codemirror_mode": {
    "name": "ipython",
    "version": 3
   },
   "file_extension": ".py",
   "mimetype": "text/x-python",
   "name": "python",
   "nbconvert_exporter": "python",
   "pygments_lexer": "ipython3",
   "version": "3.9.7"
  }
 },
 "nbformat": 4,
 "nbformat_minor": 5
}

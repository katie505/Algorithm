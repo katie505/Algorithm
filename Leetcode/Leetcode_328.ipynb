{
 "cells": [
  {
   "cell_type": "markdown",
   "id": "a570d0d7-700b-42ba-aa2b-de7304c3c22e",
   "metadata": {},
   "source": [
    "- 반복 구조로 홀짝 노드 처리\n",
    "- 제약사항 : 공간복잡도(O(1)), 시간복잡도(O(n))\n",
    "- 홀(홀수번째 노드들), 짝(짝수번째 노드들) 각 노드 구성 -> 홀수 노드의 마지막을 짝수 노드의 처음과 이어주기"
   ]
  },
  {
   "cell_type": "code",
   "execution_count": 23,
   "id": "b4fc4ae7-8f6a-4b06-99b6-15c13387c544",
   "metadata": {},
   "outputs": [],
   "source": [
    "class Solution:\n",
    "    def oddEvenList(self, head: ListNode) -> ListNode:\n",
    "        # 예외 처리\n",
    "        if not head:\n",
    "            return None\n",
    "\n",
    "        odd = head\n",
    "        even = head.next\n",
    "        even_head = head.next\n",
    "\n",
    "        # 반복하면서 홀짝 노드 처리\n",
    "        while even and even.next:\n",
    "            odd.next, even.next = odd.next.next, even.next.next\n",
    "            odd, even = odd.next, even.next\n",
    "\n",
    "        # 홀수 노드의 마지막을 짝수 헤드로 연결\n",
    "        odd.next = even_head\n",
    "        return head"
   ]
  },
  {
   "cell_type": "code",
   "execution_count": 24,
   "id": "8b4844ae-bf40-4c98-b063-8ded2aaa0a30",
   "metadata": {},
   "outputs": [
    {
     "name": "stdout",
     "output_type": "stream",
     "text": [
      "1 3 5 2 4 "
     ]
    }
   ],
   "source": [
    "solution = Solution()\n",
    "head = ListNode(1,ListNode(2,ListNode(3,ListNode(4,ListNode(5,None)))))\n",
    "ret = solution.oddEvenList(head)\n",
    "\n",
    "now = ret\n",
    "while now is not None:\n",
    "    print(now.val, end = \" \")\n",
    "    now = now.next"
   ]
  }
 ],
 "metadata": {
  "kernelspec": {
   "display_name": "Python 3 (ipykernel)",
   "language": "python",
   "name": "python3"
  },
  "language_info": {
   "codemirror_mode": {
    "name": "ipython",
    "version": 3
   },
   "file_extension": ".py",
   "mimetype": "text/x-python",
   "name": "python",
   "nbconvert_exporter": "python",
   "pygments_lexer": "ipython3",
   "version": "3.9.7"
  }
 },
 "nbformat": 4,
 "nbformat_minor": 5
}

{
 "cells": [
  {
   "cell_type": "code",
   "execution_count": 11,
   "id": "916deb88-7d99-46d1-83a2-c7c01d676e86",
   "metadata": {},
   "outputs": [],
   "source": [
    "n1, n2 = 1, 16"
   ]
  },
  {
   "cell_type": "code",
   "execution_count": 12,
   "id": "3108b5d9-4c6b-40d1-8e31-42eb39ee5ff0",
   "metadata": {},
   "outputs": [],
   "source": [
    "class Solution:\n",
    "    def isPowerOfTwo(self, n: int) -> bool:\n",
    "        # 거듭제곱을 빠르게 판별해 내는 방법\n",
    "        if n > 0 and n & n-1 == 0:\n",
    "            return True\n",
    "        else:\n",
    "            return False"
   ]
  },
  {
   "cell_type": "code",
   "execution_count": 13,
   "id": "0dd8855d-1787-4ed2-9f75-f5261d39e4a2",
   "metadata": {},
   "outputs": [
    {
     "data": {
      "text/plain": [
       "True"
      ]
     },
     "execution_count": 13,
     "metadata": {},
     "output_type": "execute_result"
    }
   ],
   "source": [
    "answer = Solution()\n",
    "answer.isPowerOfTwo(n1)"
   ]
  },
  {
   "cell_type": "code",
   "execution_count": 14,
   "id": "ab935e15-8b6a-4d74-98df-ab2b09f7c570",
   "metadata": {},
   "outputs": [
    {
     "data": {
      "text/plain": [
       "True"
      ]
     },
     "execution_count": 14,
     "metadata": {},
     "output_type": "execute_result"
    }
   ],
   "source": [
    "answer.isPowerOfTwo(n2)"
   ]
  },
  {
   "cell_type": "code",
   "execution_count": 16,
   "id": "166d3fbb-fe4c-421a-9949-8cd15119abde",
   "metadata": {},
   "outputs": [
    {
     "data": {
      "text/plain": [
       "False"
      ]
     },
     "execution_count": 16,
     "metadata": {},
     "output_type": "execute_result"
    }
   ],
   "source": [
    "answer.isPowerOfTwo(0)"
   ]
  }
 ],
 "metadata": {
  "kernelspec": {
   "display_name": "Python 3 (ipykernel)",
   "language": "python",
   "name": "python3"
  },
  "language_info": {
   "codemirror_mode": {
    "name": "ipython",
    "version": 3
   },
   "file_extension": ".py",
   "mimetype": "text/x-python",
   "name": "python",
   "nbconvert_exporter": "python",
   "pygments_lexer": "ipython3",
   "version": "3.9.7"
  }
 },
 "nbformat": 4,
 "nbformat_minor": 5
}

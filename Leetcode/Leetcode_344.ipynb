{
 "cells": [
  {
   "cell_type": "code",
   "execution_count": 13,
   "id": "f988ecfd-d380-49f0-867e-c9e8b0ff7871",
   "metadata": {},
   "outputs": [],
   "source": [
    "s = [\"h\",\"e\",\"l\",\"l\",\"o\"]"
   ]
  },
  {
   "cell_type": "code",
   "execution_count": 14,
   "id": "bfe61071-f804-49c5-b6d6-9786e3d9cf95",
   "metadata": {},
   "outputs": [],
   "source": [
    "# My answer1\n",
    "from typing import List\n",
    "class Solution1:\n",
    "    def reverseString(self, s: List[str]) -> None:\n",
    "        s.reverse()"
   ]
  },
  {
   "cell_type": "code",
   "execution_count": 16,
   "id": "0ad219c0-e62f-4d24-b084-5b53ff791cc2",
   "metadata": {},
   "outputs": [],
   "source": [
    "# My answer2\n",
    "from typing import List\n",
    "class Solution1:\n",
    "    def reverseString(self, s: List[str]) -> None:\n",
    "        i, j = 0, len(s) - 1\n",
    "        while i < j:\n",
    "            s[i], s[j] = s[j], s[i]\n",
    "            i += 1\n",
    "            j -= 1"
   ]
  }
 ],
 "metadata": {
  "kernelspec": {
   "display_name": "Python 3 (ipykernel)",
   "language": "python",
   "name": "python3"
  },
  "language_info": {
   "codemirror_mode": {
    "name": "ipython",
    "version": 3
   },
   "file_extension": ".py",
   "mimetype": "text/x-python",
   "name": "python",
   "nbconvert_exporter": "python",
   "pygments_lexer": "ipython3",
   "version": "3.9.7"
  }
 },
 "nbformat": 4,
 "nbformat_minor": 5
}

{
 "cells": [
  {
   "cell_type": "code",
   "execution_count": 44,
   "id": "72d79367-f6b8-4669-b929-81b817d0e660",
   "metadata": {},
   "outputs": [],
   "source": [
    "class ListNode:\n",
    "    def __init__(self, val=0, next=None):\n",
    "        self.val = val\n",
    "        self.next = next\n",
    "    \n",
    "    def _print_all(self):\n",
    "        while self:\n",
    "            print(self.val, end = ' ')\n",
    "            self = self.next\n",
    "        print()"
   ]
  },
  {
   "cell_type": "code",
   "execution_count": 45,
   "id": "f43d0581-402e-4a1b-a06c-854cf8553e5e",
   "metadata": {},
   "outputs": [],
   "source": [
    "from typing import Optional\n",
    "\n",
    "class Solution:\n",
    "    def swapPairs1(self, head: Optional[ListNode]) -> Optional[ListNode]:\n",
    "        if not head or not head.next:\n",
    "            return head\n",
    "        \n",
    "        root = front = ListNode(None)\n",
    "        while head and head.next:\n",
    "            temp = head.next\n",
    "            head.next, temp.next = temp.next, head\n",
    "\n",
    "            front.next = temp\n",
    "            head, front = head.next, front.next.next\n",
    "\n",
    "        return root.next"
   ]
  },
  {
   "cell_type": "code",
   "execution_count": 46,
   "id": "4182ef58-f83f-4b60-a069-8fd33e8e229a",
   "metadata": {},
   "outputs": [],
   "source": [
    "head = ListNode(1,ListNode(2, ListNode(3, ListNode(4, None))))"
   ]
  },
  {
   "cell_type": "code",
   "execution_count": 47,
   "id": "ac2cc905-46d1-41a7-9913-1dbdd4cd5e88",
   "metadata": {},
   "outputs": [
    {
     "name": "stdout",
     "output_type": "stream",
     "text": [
      "2 1 4 3 \n"
     ]
    }
   ],
   "source": [
    "answer = Solution()\n",
    "result1 = answer.swapPairs1(head)\n",
    "result1._print_all()"
   ]
  }
 ],
 "metadata": {
  "kernelspec": {
   "display_name": "Python 3 (ipykernel)",
   "language": "python",
   "name": "python3"
  },
  "language_info": {
   "codemirror_mode": {
    "name": "ipython",
    "version": 3
   },
   "file_extension": ".py",
   "mimetype": "text/x-python",
   "name": "python",
   "nbconvert_exporter": "python",
   "pygments_lexer": "ipython3",
   "version": "3.9.7"
  }
 },
 "nbformat": 4,
 "nbformat_minor": 5
}

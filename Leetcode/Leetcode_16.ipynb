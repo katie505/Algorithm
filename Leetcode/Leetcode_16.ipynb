{
 "cells": [
  {
   "cell_type": "code",
   "execution_count": 14,
   "id": "e6634824-4666-4a73-bd29-9c8322b39109",
   "metadata": {},
   "outputs": [],
   "source": [
    "nums1 = [-1, 2, 1, -4]\n",
    "target1 = 1"
   ]
  },
  {
   "cell_type": "code",
   "execution_count": 18,
   "id": "131c7ae9-b48c-4e87-bb18-c0ffdef21d32",
   "metadata": {},
   "outputs": [],
   "source": [
    "nums2 = [0, 0, 0]\n",
    "target2 = 1"
   ]
  },
  {
   "cell_type": "code",
   "execution_count": 19,
   "id": "8899bdf0-12f5-43e8-b47a-ac58c6c80581",
   "metadata": {},
   "outputs": [],
   "source": [
    "from typing import List\n",
    "class Solution:\n",
    "    def threeSumClosest1(self, nums: List[int], target: int) -> int:\n",
    "        nums.sort()\n",
    "        \n",
    "        curr_diff = float('inf')\n",
    "        answer = None\n",
    "        \n",
    "        for i in range(len(nums) - 2):\n",
    "            l, r = i + 1, len(nums) - 1\n",
    "                \n",
    "            while l < r:\n",
    "                s = nums[i] + nums[l] + nums[r]\n",
    "                \n",
    "                if s == target:\n",
    "                    return s\n",
    "                else:\n",
    "                    diff = abs(s - target)\n",
    "                    if diff < curr_diff:\n",
    "                        curr_diff = diff\n",
    "                        answer = s\n",
    "                    \n",
    "                    if s < target:\n",
    "                        l += 1\n",
    "                    else:\n",
    "                        r -= 1\n",
    "                        \n",
    "        \n",
    "        return answer"
   ]
  },
  {
   "cell_type": "code",
   "execution_count": 20,
   "id": "902ea5a6-395d-449b-8a45-99d72f4a0540",
   "metadata": {},
   "outputs": [
    {
     "data": {
      "text/plain": [
       "2"
      ]
     },
     "execution_count": 20,
     "metadata": {},
     "output_type": "execute_result"
    }
   ],
   "source": [
    "answer = Solution()\n",
    "answer.threeSumClosest1(nums1, target1)"
   ]
  },
  {
   "cell_type": "code",
   "execution_count": 21,
   "id": "34b9f6cc-1fa2-4347-b9ff-345d8cdcb5ec",
   "metadata": {},
   "outputs": [
    {
     "data": {
      "text/plain": [
       "0"
      ]
     },
     "execution_count": 21,
     "metadata": {},
     "output_type": "execute_result"
    }
   ],
   "source": [
    "answer = Solution()\n",
    "answer.threeSumClosest1(nums2, target2)"
   ]
  }
 ],
 "metadata": {
  "kernelspec": {
   "display_name": "Python 3 (ipykernel)",
   "language": "python",
   "name": "python3"
  },
  "language_info": {
   "codemirror_mode": {
    "name": "ipython",
    "version": 3
   },
   "file_extension": ".py",
   "mimetype": "text/x-python",
   "name": "python",
   "nbconvert_exporter": "python",
   "pygments_lexer": "ipython3",
   "version": "3.9.7"
  }
 },
 "nbformat": 4,
 "nbformat_minor": 5
}

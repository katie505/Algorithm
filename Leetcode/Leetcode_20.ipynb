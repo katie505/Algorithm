{
 "cells": [
  {
   "cell_type": "code",
   "execution_count": 7,
   "id": "e8bdbc5e-54a3-4629-82d6-ed6b7fe904b3",
   "metadata": {},
   "outputs": [],
   "source": [
    "s1 = \"()[]{}\"\n",
    "s2 = \"(]\""
   ]
  },
  {
   "cell_type": "code",
   "execution_count": 8,
   "id": "81525848-528b-46dc-ae5b-6f2b4e3fb83c",
   "metadata": {},
   "outputs": [],
   "source": [
    "class Solution:\n",
    "    def isValid1(self, s: str) -> bool:\n",
    "        stack = []\n",
    "        brackets = {'}' : '{', ')' : '(', ']' : '['}\n",
    "        for bracket in s:\n",
    "            if bracket in brackets.values():\n",
    "                stack.append(bracket)\n",
    "            else:\n",
    "                if stack and brackets[bracket] == stack[-1]:\n",
    "                    stack.pop()\n",
    "                else:\n",
    "                    return False\n",
    "        \n",
    "        if stack:\n",
    "            return False\n",
    "        else:\n",
    "            return True"
   ]
  },
  {
   "cell_type": "code",
   "execution_count": 9,
   "id": "9a8d847a-98bd-4f4c-afc2-a3f1f1e53907",
   "metadata": {},
   "outputs": [
    {
     "data": {
      "text/plain": [
       "True"
      ]
     },
     "execution_count": 9,
     "metadata": {},
     "output_type": "execute_result"
    }
   ],
   "source": [
    "answer = Solution()\n",
    "answer.isValid1(s1)"
   ]
  },
  {
   "cell_type": "code",
   "execution_count": 10,
   "id": "e4478d8b-d914-450f-81da-ec41dca4034a",
   "metadata": {},
   "outputs": [
    {
     "data": {
      "text/plain": [
       "False"
      ]
     },
     "execution_count": 10,
     "metadata": {},
     "output_type": "execute_result"
    }
   ],
   "source": [
    "answer.isValid1(s2)"
   ]
  }
 ],
 "metadata": {
  "kernelspec": {
   "display_name": "Python 3 (ipykernel)",
   "language": "python",
   "name": "python3"
  },
  "language_info": {
   "codemirror_mode": {
    "name": "ipython",
    "version": 3
   },
   "file_extension": ".py",
   "mimetype": "text/x-python",
   "name": "python",
   "nbconvert_exporter": "python",
   "pygments_lexer": "ipython3",
   "version": "3.9.7"
  }
 },
 "nbformat": 4,
 "nbformat_minor": 5
}

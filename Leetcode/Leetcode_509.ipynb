{
 "cells": [
  {
   "cell_type": "code",
   "execution_count": 12,
   "id": "0c05ca1a-6cf7-4007-91d0-366932607bdf",
   "metadata": {},
   "outputs": [],
   "source": [
    "n1, n2, n3 = 2, 3, 4"
   ]
  },
  {
   "cell_type": "code",
   "execution_count": 13,
   "id": "6515fbbf-8879-4490-bc8c-696523927e6f",
   "metadata": {},
   "outputs": [],
   "source": [
    "class Solution:\n",
    "    def fib(self, n: int) -> int:\n",
    "        if n == 0:\n",
    "            return 0\n",
    "        elif n == 1:\n",
    "            return 1\n",
    "        else:\n",
    "            return self.fib(n-1) + self.fib(n-2) #self 붙여야함"
   ]
  },
  {
   "cell_type": "code",
   "execution_count": 14,
   "id": "6297d0c8-ee4e-4adb-bd4e-fe7410e6b0a8",
   "metadata": {},
   "outputs": [
    {
     "data": {
      "text/plain": [
       "1"
      ]
     },
     "execution_count": 14,
     "metadata": {},
     "output_type": "execute_result"
    }
   ],
   "source": [
    "answer = Solution()\n",
    "answer.fib(n1)"
   ]
  },
  {
   "cell_type": "code",
   "execution_count": 15,
   "id": "2c6a5f67-8405-448b-b3b3-54ac2c646641",
   "metadata": {},
   "outputs": [
    {
     "data": {
      "text/plain": [
       "2"
      ]
     },
     "execution_count": 15,
     "metadata": {},
     "output_type": "execute_result"
    }
   ],
   "source": [
    "answer.fib(n2)"
   ]
  },
  {
   "cell_type": "code",
   "execution_count": 16,
   "id": "0f26dc45-2ff3-4819-985e-486dd328dc51",
   "metadata": {},
   "outputs": [
    {
     "data": {
      "text/plain": [
       "3"
      ]
     },
     "execution_count": 16,
     "metadata": {},
     "output_type": "execute_result"
    }
   ],
   "source": [
    "answer.fib(n3)"
   ]
  }
 ],
 "metadata": {
  "kernelspec": {
   "display_name": "Python 3 (ipykernel)",
   "language": "python",
   "name": "python3"
  },
  "language_info": {
   "codemirror_mode": {
    "name": "ipython",
    "version": 3
   },
   "file_extension": ".py",
   "mimetype": "text/x-python",
   "name": "python",
   "nbconvert_exporter": "python",
   "pygments_lexer": "ipython3",
   "version": "3.9.7"
  }
 },
 "nbformat": 4,
 "nbformat_minor": 5
}

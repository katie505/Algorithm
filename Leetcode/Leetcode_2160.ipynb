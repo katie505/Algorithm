{
 "cells": [
  {
   "cell_type": "code",
   "execution_count": 2,
   "id": "750ac900-9591-4e98-a525-0513eeda33b7",
   "metadata": {},
   "outputs": [],
   "source": [
    "num1 = 2932\n",
    "num2 = 4009"
   ]
  },
  {
   "cell_type": "code",
   "execution_count": 3,
   "id": "c1f0b08e-f579-4663-be01-5e1f4640f11a",
   "metadata": {},
   "outputs": [],
   "source": [
    "class Solution:\n",
    "    def minimumSum1(self, num: int) -> int:\n",
    "        num_list = [int(i) for i in str(num)]\n",
    "        num_list.sort()\n",
    "        \n",
    "        return (num_list[0] + num_list[1])*10 + num_list[2] + num_list[3]\n",
    "    \n",
    "    def minimumSum2(self, num : int) -> int:\n",
    "        "
   ]
  },
  {
   "cell_type": "code",
   "execution_count": 4,
   "id": "4f48d23e-8a31-4fd9-a052-ec6e7b715795",
   "metadata": {},
   "outputs": [
    {
     "data": {
      "text/plain": [
       "52"
      ]
     },
     "execution_count": 4,
     "metadata": {},
     "output_type": "execute_result"
    }
   ],
   "source": [
    "answer = Solution()\n",
    "answer.minimumSum1(num1)"
   ]
  },
  {
   "cell_type": "code",
   "execution_count": 5,
   "id": "4d29d39c-3699-4664-a681-38407e6e1a02",
   "metadata": {},
   "outputs": [
    {
     "data": {
      "text/plain": [
       "13"
      ]
     },
     "execution_count": 5,
     "metadata": {},
     "output_type": "execute_result"
    }
   ],
   "source": [
    "answer = Solution()\n",
    "answer.minimumSum1(num2)"
   ]
  }
 ],
 "metadata": {
  "kernelspec": {
   "display_name": "Python 3 (ipykernel)",
   "language": "python",
   "name": "python3"
  },
  "language_info": {
   "codemirror_mode": {
    "name": "ipython",
    "version": 3
   },
   "file_extension": ".py",
   "mimetype": "text/x-python",
   "name": "python",
   "nbconvert_exporter": "python",
   "pygments_lexer": "ipython3",
   "version": "3.9.7"
  }
 },
 "nbformat": 4,
 "nbformat_minor": 5
}

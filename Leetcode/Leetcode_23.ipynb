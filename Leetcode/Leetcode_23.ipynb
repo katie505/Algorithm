{
 "cells": [
  {
   "cell_type": "code",
   "execution_count": 51,
   "id": "afaba21e-c9e9-4ab5-b9c7-41e93439f6e4",
   "metadata": {},
   "outputs": [],
   "source": [
    "class ListNode:\n",
    "    def __init__(self, val=0, next=None):\n",
    "        self.val = val\n",
    "        self.next = next"
   ]
  },
  {
   "cell_type": "code",
   "execution_count": 52,
   "id": "090f2eb6-7428-4022-b7d4-3e1479e94dda",
   "metadata": {},
   "outputs": [],
   "source": [
    "rootnode1 = ListNode(1, ListNode(4, ListNode(5, None)))\n",
    "rootnode2 = ListNode(1, ListNode(3, ListNode(4, None)))\n",
    "rootnode3 = ListNode(2, ListNode(6, None))\n",
    "lists1 = [rootnode1, rootnode2, rootnode3]"
   ]
  },
  {
   "cell_type": "code",
   "execution_count": 53,
   "id": "a73642a9-c560-4237-a6bf-0098cfd1fda6",
   "metadata": {},
   "outputs": [],
   "source": [
    "lists2 = []\n",
    "lists3 = [[]]"
   ]
  },
  {
   "cell_type": "code",
   "execution_count": 54,
   "id": "57e782de-f1f3-432c-85cd-272ed1c28d21",
   "metadata": {},
   "outputs": [],
   "source": [
    "from typing import List\n",
    "from typing import Optional\n",
    "\n",
    "class Solution:\n",
    "    def mergeKLists(self, lists: List[Optional[ListNode]]) -> Optional[ListNode]:\n",
    "        arr = []\n",
    "        for list in lists:\n",
    "            while list:\n",
    "                arr.append(list.val)\n",
    "                list = list.next\n",
    "        \n",
    "        head = curr = None\n",
    "        \n",
    "        for val in sorted(arr):\n",
    "            if not curr:\n",
    "                head = curr = ListNode(val)\n",
    "            else:\n",
    "                curr.next = ListNode(val)\n",
    "                curr = curr.next\n",
    "        \n",
    "        return head"
   ]
  },
  {
   "cell_type": "code",
   "execution_count": 55,
   "id": "a12b8c0a-0ee5-4609-bcb7-316441837d53",
   "metadata": {},
   "outputs": [
    {
     "data": {
      "text/plain": [
       "<__main__.ListNode at 0x28e4e607040>"
      ]
     },
     "execution_count": 55,
     "metadata": {},
     "output_type": "execute_result"
    }
   ],
   "source": [
    "answer = Solution()\n",
    "answer.mergeKLists(lists1)"
   ]
  },
  {
   "cell_type": "code",
   "execution_count": 56,
   "id": "7e4e0c9c-cf6d-4b9e-8aab-d511177cf01a",
   "metadata": {},
   "outputs": [],
   "source": [
    "answer.mergeKLists(lists2)"
   ]
  },
  {
   "cell_type": "code",
   "execution_count": 57,
   "id": "d52cbfd7-15bb-4bcf-ac56-7c287b329478",
   "metadata": {},
   "outputs": [],
   "source": [
    "answer.mergeKLists(lists3)"
   ]
  }
 ],
 "metadata": {
  "kernelspec": {
   "display_name": "Python 3 (ipykernel)",
   "language": "python",
   "name": "python3"
  },
  "language_info": {
   "codemirror_mode": {
    "name": "ipython",
    "version": 3
   },
   "file_extension": ".py",
   "mimetype": "text/x-python",
   "name": "python",
   "nbconvert_exporter": "python",
   "pygments_lexer": "ipython3",
   "version": "3.9.7"
  }
 },
 "nbformat": 4,
 "nbformat_minor": 5
}

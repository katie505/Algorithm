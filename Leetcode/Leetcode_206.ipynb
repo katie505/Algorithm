{
 "cells": [
  {
   "cell_type": "code",
   "execution_count": 16,
   "id": "5ba48c92-d31c-453f-bbbf-1fff15531352",
   "metadata": {},
   "outputs": [],
   "source": [
    "from typing import Optional\n",
    "class ListNode:\n",
    "    def __init__(self, val=0, next=None):\n",
    "        self.val = val\n",
    "        self.next = next\n",
    "        \n",
    "    def _print_all(self):\n",
    "        while self:\n",
    "            print(self.val, end = ' ')\n",
    "            self = self.next\n",
    "        print()\n",
    "        \n",
    "class Solution:\n",
    "    def reverseList(self, head: Optional[ListNode]) -> Optional[ListNode]:\n",
    "        node = head\n",
    "        prev = None\n",
    "        while node:\n",
    "            node.next, next = prev, node.next\n",
    "            prev, node = node, next\n",
    "        \n",
    "        return prev"
   ]
  },
  {
   "cell_type": "code",
   "execution_count": 20,
   "id": "4e8cffe7-4ed2-4f62-8e45-984ffbf9a3b6",
   "metadata": {},
   "outputs": [],
   "source": [
    "answer = Solution()\n",
    "head = ListNode(5)\n",
    "node1 = ListNode(4, head)\n",
    "node2 = ListNode(3, node1)\n",
    "node3 = ListNode(2, node2)\n",
    "node4 = ListNode(1, node3)"
   ]
  },
  {
   "cell_type": "code",
   "execution_count": 23,
   "id": "ea4553c4-55a4-4f76-80bd-58524eacc810",
   "metadata": {},
   "outputs": [
    {
     "data": {
      "text/plain": [
       "2"
      ]
     },
     "execution_count": 23,
     "metadata": {},
     "output_type": "execute_result"
    }
   ],
   "source": [
    "node4.next.val"
   ]
  },
  {
   "cell_type": "code",
   "execution_count": 21,
   "id": "e39ace1b-f68b-4f5e-91cf-b25e8c7c1bc4",
   "metadata": {},
   "outputs": [
    {
     "name": "stdout",
     "output_type": "stream",
     "text": [
      "1 2 3 4 5 \n"
     ]
    }
   ],
   "source": [
    "node4._print_all()"
   ]
  },
  {
   "cell_type": "code",
   "execution_count": 19,
   "id": "62df84ed-5f05-40c2-99f5-998e7d591895",
   "metadata": {},
   "outputs": [
    {
     "name": "stdout",
     "output_type": "stream",
     "text": [
      "5 4 3 2 1 \n"
     ]
    }
   ],
   "source": [
    "result = answer.reverseList(node4)\n",
    "result._print_all()"
   ]
  }
 ],
 "metadata": {
  "kernelspec": {
   "display_name": "Python 3 (ipykernel)",
   "language": "python",
   "name": "python3"
  },
  "language_info": {
   "codemirror_mode": {
    "name": "ipython",
    "version": 3
   },
   "file_extension": ".py",
   "mimetype": "text/x-python",
   "name": "python",
   "nbconvert_exporter": "python",
   "pygments_lexer": "ipython3",
   "version": "3.9.7"
  }
 },
 "nbformat": 4,
 "nbformat_minor": 5
}

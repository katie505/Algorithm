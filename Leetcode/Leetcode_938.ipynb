{
 "cells": [
  {
   "cell_type": "code",
   "execution_count": 1,
   "id": "e1a90c00-7acd-467a-960a-97207bfbbfe6",
   "metadata": {},
   "outputs": [],
   "source": [
    "class TreeNode:\n",
    "     def __init__(self, x):\n",
    "        self.val = x\n",
    "        self.left = None\n",
    "        self.right = None"
   ]
  },
  {
   "cell_type": "code",
   "execution_count": 2,
   "id": "bbd8224b-6935-4ccb-8089-50d22cf09fa1",
   "metadata": {},
   "outputs": [],
   "source": [
    "root = TreeNode(10)\n",
    "node1 = TreeNode(5)\n",
    "node2 = TreeNode(15)\n",
    "node3 = TreeNode(3)\n",
    "node4 = TreeNode(7)\n",
    "node5 = TreeNode(18)\n",
    "\n",
    "root.left = node1\n",
    "root.right = node2\n",
    "node1.left = node3\n",
    "node1.right = node4\n",
    "node2.right = node5\n",
    "\n",
    "low = 7\n",
    "high = 15"
   ]
  },
  {
   "cell_type": "code",
   "execution_count": 4,
   "id": "f6179655-a140-4174-98fd-7b6c8842c689",
   "metadata": {},
   "outputs": [],
   "source": [
    "from typing import Optional\n",
    "\n",
    "class Solution:\n",
    "    def DFS(self, node, low, high):\n",
    "        if not node:\n",
    "            return 0\n",
    "        myReturn = 0\n",
    "        if node.val >= low and node.val <= high:\n",
    "            myReturn += node.val\n",
    "        myReturn += self.DFS(node.left, low, high)\n",
    "        myReturn += self.DFS(node.right, low, high)\n",
    "        return myReturn\n",
    "    def rangeSumBST(self, root: Optional[TreeNode], low: int, high: int) -> int:\n",
    "        return self.DFS(root, low, high)"
   ]
  },
  {
   "cell_type": "code",
   "execution_count": 5,
   "id": "654f409b-5288-49e8-9fc9-c4c65bfcb943",
   "metadata": {},
   "outputs": [
    {
     "data": {
      "text/plain": [
       "32"
      ]
     },
     "execution_count": 5,
     "metadata": {},
     "output_type": "execute_result"
    }
   ],
   "source": [
    "answer = Solution()\n",
    "answer.rangeSumBST(root, low, high)"
   ]
  }
 ],
 "metadata": {
  "kernelspec": {
   "display_name": "Python 3 (ipykernel)",
   "language": "python",
   "name": "python3"
  },
  "language_info": {
   "codemirror_mode": {
    "name": "ipython",
    "version": 3
   },
   "file_extension": ".py",
   "mimetype": "text/x-python",
   "name": "python",
   "nbconvert_exporter": "python",
   "pygments_lexer": "ipython3",
   "version": "3.9.7"
  }
 },
 "nbformat": 4,
 "nbformat_minor": 5
}

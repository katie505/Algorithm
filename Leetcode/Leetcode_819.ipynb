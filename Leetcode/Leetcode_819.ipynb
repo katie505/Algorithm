{
 "cells": [
  {
   "cell_type": "code",
   "execution_count": 19,
   "id": "ae4c7a6e-0f88-4bb5-ba18-1dd4b41fddfd",
   "metadata": {},
   "outputs": [],
   "source": [
    "paragraph = \"Bob hit a ball, the hit BALL flew far after it was hit.\"\n",
    "banned = [\"hit\"]"
   ]
  },
  {
   "cell_type": "code",
   "execution_count": 20,
   "id": "570e1e25-abe7-48cc-87a7-1be4fbbae3cc",
   "metadata": {},
   "outputs": [],
   "source": [
    "# My answer\n",
    "from typing import List\n",
    "import collections\n",
    "import re\n",
    "class Solution1:\n",
    "    def mostCommonWord(self, paragraph: str, banned: List[str]) -> str:\n",
    "        words = [word for word in re.sub(r'[^\\w]',' ',paragraph).lower().split()\n",
    "                if word not in banned]\n",
    "        counts = collections.Counter(words)\n",
    "        return counts.most_common()[0][0]"
   ]
  },
  {
   "cell_type": "code",
   "execution_count": 22,
   "id": "6a2610c9-0d73-4a8e-a6af-b5cb59216fde",
   "metadata": {},
   "outputs": [
    {
     "data": {
      "text/plain": [
       "'ball'"
      ]
     },
     "execution_count": 22,
     "metadata": {},
     "output_type": "execute_result"
    }
   ],
   "source": [
    "answer = Solution1()\n",
    "answer.mostCommonWord(paragraph, banned)"
   ]
  }
 ],
 "metadata": {
  "kernelspec": {
   "display_name": "Python 3 (ipykernel)",
   "language": "python",
   "name": "python3"
  },
  "language_info": {
   "codemirror_mode": {
    "name": "ipython",
    "version": 3
   },
   "file_extension": ".py",
   "mimetype": "text/x-python",
   "name": "python",
   "nbconvert_exporter": "python",
   "pygments_lexer": "ipython3",
   "version": "3.9.7"
  }
 },
 "nbformat": 4,
 "nbformat_minor": 5
}

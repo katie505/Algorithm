{
 "cells": [
  {
   "cell_type": "code",
   "execution_count": 10,
   "id": "22fb9b2f-74d8-4e58-aaed-c9a3898fe79b",
   "metadata": {},
   "outputs": [],
   "source": [
    "s = 'babad'"
   ]
  },
  {
   "cell_type": "code",
   "execution_count": 13,
   "id": "5c1e9223-6e6a-49c2-9452-57084fab6ad0",
   "metadata": {},
   "outputs": [],
   "source": [
    "class Solution:\n",
    "    def longestPalindrome(self, s: str) -> str:\n",
    "        # 가장 긴 palindrome인지 체크하기 위한 len 변수\n",
    "        MaxLen = 0\n",
    "        MaxPal = \"\"\n",
    "        # 홀수 palindrome에 대한 for loop\n",
    "        for i in range(len(s)):\n",
    "            j = 0 #i는 palindrome의 가장 중심, j는 i에서 몇개만큼 옆으로 확장할것인가\n",
    "            while s[i-j] == s[i+j]:\n",
    "                if MaxLen < len(s[i-j:i+j+1]): #현재 palindrome이 maxlen보다 큰지 확인\n",
    "                    MaxLen = len(s[i-j:i+j+1])\n",
    "                    MaxPal = s[i-j:i+j+1]\n",
    "                j += 1\n",
    "                if i-j < 0 or i+j >= len(s):\n",
    "                    break\n",
    "        # 짝수 palindrome에 대한 for loop\n",
    "        for i in range(len(s)-1):\n",
    "            j = 0\n",
    "            while s[i-j] == s[i+j+1]:\n",
    "                if MaxLen < len(s[i-j:i+j+2]):\n",
    "                    MaxLen = len(s[i-j:i+j+2])\n",
    "                    MaxPal = s[i-j:i+j+2]\n",
    "                j += 1\n",
    "                if i-j < 0 or i+j+1 >= len(s):\n",
    "                    break\n",
    "        return MaxPal"
   ]
  },
  {
   "cell_type": "code",
   "execution_count": 14,
   "id": "ac5df459-8bdb-4f3e-a1c8-12328121f435",
   "metadata": {},
   "outputs": [
    {
     "data": {
      "text/plain": [
       "'bab'"
      ]
     },
     "execution_count": 14,
     "metadata": {},
     "output_type": "execute_result"
    }
   ],
   "source": [
    "answer = Solution()\n",
    "answer.longestPalindrome(s)"
   ]
  }
 ],
 "metadata": {
  "kernelspec": {
   "display_name": "Python 3 (ipykernel)",
   "language": "python",
   "name": "python3"
  },
  "language_info": {
   "codemirror_mode": {
    "name": "ipython",
    "version": 3
   },
   "file_extension": ".py",
   "mimetype": "text/x-python",
   "name": "python",
   "nbconvert_exporter": "python",
   "pygments_lexer": "ipython3",
   "version": "3.9.7"
  }
 },
 "nbformat": 4,
 "nbformat_minor": 5
}

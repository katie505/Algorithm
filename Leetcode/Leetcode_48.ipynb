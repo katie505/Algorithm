{
 "cells": [
  {
   "cell_type": "code",
   "execution_count": 2,
   "id": "b7a854b9-dab0-480c-8ceb-cce21a0b29d4",
   "metadata": {},
   "outputs": [],
   "source": [
    "matrix1 = [[1,2,3],[4,5,6],[7,8,9]]\n",
    "matrix2 = [[5,1,9,11],[2,4,8,10],[13,3,6,7],[15,14,12,16]]"
   ]
  },
  {
   "cell_type": "code",
   "execution_count": 3,
   "id": "d44d2d95-8ee9-41b5-8e1f-1457a669a925",
   "metadata": {},
   "outputs": [],
   "source": [
    "from typing import List\n",
    "class Solution:\n",
    "    def rotate(self, matrix: List[List[int]]) -> None:\n",
    "        N = len(matrix)\n",
    "        if N == 1:\n",
    "            return\n",
    "        \n",
    "        l, r = 0, N-1\n",
    "        while l < r:\n",
    "            matrix[l], matrix[r] = matrix[r], matrix[l]\n",
    "            l += 1\n",
    "            r -= 1\n",
    "            \n",
    "        for i in range(N):\n",
    "            for j in range(i):\n",
    "                matrix[i][j], matrix[j][i] = matrix[j][i], matrix[i][j]"
   ]
  },
  {
   "cell_type": "code",
   "execution_count": 4,
   "id": "b04f2b58-3651-476e-b3da-4a3686fbfdda",
   "metadata": {},
   "outputs": [],
   "source": [
    "answer = Solution()\n",
    "answer.rotate(matrix1)"
   ]
  },
  {
   "cell_type": "code",
   "execution_count": 5,
   "id": "66d52c1d-dbf1-43e7-b4cd-576b550c5cca",
   "metadata": {},
   "outputs": [],
   "source": [
    "answer.rotate(matrix2)"
   ]
  },
  {
   "cell_type": "code",
   "execution_count": 6,
   "id": "660ee33c-fc34-4840-b382-2ccfc33693cd",
   "metadata": {},
   "outputs": [
    {
     "data": {
      "text/plain": [
       "[[7, 4, 1], [8, 5, 2], [9, 6, 3]]"
      ]
     },
     "execution_count": 6,
     "metadata": {},
     "output_type": "execute_result"
    }
   ],
   "source": [
    "matrix1"
   ]
  },
  {
   "cell_type": "code",
   "execution_count": 7,
   "id": "82739043-7413-40cc-83f4-5dde11b9214d",
   "metadata": {},
   "outputs": [
    {
     "data": {
      "text/plain": [
       "[[15, 13, 2, 5], [14, 3, 4, 1], [12, 6, 8, 9], [16, 7, 10, 11]]"
      ]
     },
     "execution_count": 7,
     "metadata": {},
     "output_type": "execute_result"
    }
   ],
   "source": [
    "matrix2"
   ]
  }
 ],
 "metadata": {
  "kernelspec": {
   "display_name": "Python 3 (ipykernel)",
   "language": "python",
   "name": "python3"
  },
  "language_info": {
   "codemirror_mode": {
    "name": "ipython",
    "version": 3
   },
   "file_extension": ".py",
   "mimetype": "text/x-python",
   "name": "python",
   "nbconvert_exporter": "python",
   "pygments_lexer": "ipython3",
   "version": "3.9.7"
  }
 },
 "nbformat": 4,
 "nbformat_minor": 5
}

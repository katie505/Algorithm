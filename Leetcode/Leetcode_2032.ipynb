{
 "cells": [
  {
   "cell_type": "code",
   "execution_count": 1,
   "id": "e6a09547-a580-4f0d-bc69-0c1de16ac997",
   "metadata": {},
   "outputs": [],
   "source": [
    "nums1 = [1,1,3,2]\n",
    "nums2 = [2,3]\n",
    "nums3 = [3]"
   ]
  },
  {
   "cell_type": "code",
   "execution_count": 15,
   "id": "cf26b9b0-7815-4ff6-8fc0-ee2ca4ad5b8c",
   "metadata": {},
   "outputs": [],
   "source": [
    "# My answer\n",
    "from typing import List\n",
    "import collections\n",
    "class Solution1:\n",
    "    def twoOutOfThree(self, nums1: List[int], nums2: List[int], nums3: List[int]) -> List[int]:\n",
    "        x, y, z = set(nums1), set(nums2), set(nums3)\n",
    "        return (x & y) | (x & z) | (y & z)"
   ]
  },
  {
   "cell_type": "code",
   "execution_count": 16,
   "id": "613b30ee-7aba-4fdf-b5b6-e48477ae0a17",
   "metadata": {},
   "outputs": [
    {
     "data": {
      "text/plain": [
       "{2, 3}"
      ]
     },
     "execution_count": 16,
     "metadata": {},
     "output_type": "execute_result"
    }
   ],
   "source": [
    "answer = Solution1()\n",
    "answer.twoOutOfThree(nums1, nums2, nums3)"
   ]
  },
  {
   "cell_type": "code",
   "execution_count": 21,
   "id": "fb886c3d-a628-427f-b5ca-50e5afb98dd3",
   "metadata": {},
   "outputs": [],
   "source": [
    "from typing import List\n",
    "import collections\n",
    "class Solution2:\n",
    "    def twoOutOfThree(self, nums1: List[int], nums2: List[int], nums3: List[int]) -> List[int]:\n",
    "        AllList = list(set(nums1)) + list(set(nums2)) + list(set(nums3))\n",
    "        counter = collections.Counter(AllList)\n",
    "        return [k for k, v in counter.items() if v >=2]"
   ]
  },
  {
   "cell_type": "code",
   "execution_count": 22,
   "id": "4f19711e-12dc-4d6c-a21e-224fdbeb1d01",
   "metadata": {},
   "outputs": [
    {
     "data": {
      "text/plain": [
       "[2, 3]"
      ]
     },
     "execution_count": 22,
     "metadata": {},
     "output_type": "execute_result"
    }
   ],
   "source": [
    "answer = Solution2()\n",
    "answer.twoOutOfThree(nums1, nums2, nums3)"
   ]
  }
 ],
 "metadata": {
  "kernelspec": {
   "display_name": "Python 3 (ipykernel)",
   "language": "python",
   "name": "python3"
  },
  "language_info": {
   "codemirror_mode": {
    "name": "ipython",
    "version": 3
   },
   "file_extension": ".py",
   "mimetype": "text/x-python",
   "name": "python",
   "nbconvert_exporter": "python",
   "pygments_lexer": "ipython3",
   "version": "3.9.7"
  }
 },
 "nbformat": 4,
 "nbformat_minor": 5
}

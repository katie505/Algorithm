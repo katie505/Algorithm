{
 "cells": [
  {
   "cell_type": "code",
   "execution_count": 37,
   "id": "26b96c67-6b5f-46ce-891d-faa3840429e8",
   "metadata": {},
   "outputs": [],
   "source": [
    "from typing import List\n",
    "\n",
    "class Solution:\n",
    "    def preorder(self, root: 'Node') -> List[int]:\n",
    "        if not root: \n",
    "            return []\n",
    "        stack = [root]\n",
    "        out = []\n",
    "        while len(stack):\n",
    "            temp = stack.pop()\n",
    "            out.append(temp.val)\n",
    "            stack.extend(reversed(temp.children))\n",
    "        return out"
   ]
  }
 ],
 "metadata": {
  "kernelspec": {
   "display_name": "Python 3 (ipykernel)",
   "language": "python",
   "name": "python3"
  },
  "language_info": {
   "codemirror_mode": {
    "name": "ipython",
    "version": 3
   },
   "file_extension": ".py",
   "mimetype": "text/x-python",
   "name": "python",
   "nbconvert_exporter": "python",
   "pygments_lexer": "ipython3",
   "version": "3.9.7"
  }
 },
 "nbformat": 4,
 "nbformat_minor": 5
}

{
 "cells": [
  {
   "cell_type": "code",
   "execution_count": 69,
   "id": "8573932a-d8ba-490b-ad20-23a8baecf5c9",
   "metadata": {},
   "outputs": [],
   "source": [
    "strs1 = [\"eat\",\"tea\",\"tan\",\"ate\",\"nat\", \"bat\"]\n",
    "strs2 = [\"\"]"
   ]
  },
  {
   "cell_type": "code",
   "execution_count": 72,
   "id": "841912e5-0526-48aa-be15-eb09db44a421",
   "metadata": {},
   "outputs": [],
   "source": [
    "# My answer\n",
    "import collections\n",
    "from typing import List\n",
    "class Solution1:\n",
    "    def groupAnagrams(self, strs: List[str]) -> List[List[str]]:\n",
    "        answer_list = []\n",
    "        anagrams = collections.defaultdict(list)\n",
    "        for word in strs:\n",
    "            # dict에 정렬된 단어를 키로 넣고, 값으로 원래 단어를 넣는다.\n",
    "            anagrams[''.join(sorted(word))].append(word)\n",
    "        return sorted(list(anagrams.values()), key=len)"
   ]
  },
  {
   "cell_type": "code",
   "execution_count": 73,
   "id": "bee3b4df-4c7c-458c-a50b-230f21f96a19",
   "metadata": {},
   "outputs": [
    {
     "data": {
      "text/plain": [
       "[['bat'], ['tan', 'nat'], ['eat', 'tea', 'ate']]"
      ]
     },
     "execution_count": 73,
     "metadata": {},
     "output_type": "execute_result"
    }
   ],
   "source": [
    "answer = Solution1()\n",
    "answer.groupAnagrams(strs1)"
   ]
  },
  {
   "cell_type": "code",
   "execution_count": 74,
   "id": "446e389e-9895-40e5-9485-52ab01ccbfd3",
   "metadata": {},
   "outputs": [
    {
     "data": {
      "text/plain": [
       "[['']]"
      ]
     },
     "execution_count": 74,
     "metadata": {},
     "output_type": "execute_result"
    }
   ],
   "source": [
    "answer = Solution1()\n",
    "answer.groupAnagrams(strs2)"
   ]
  }
 ],
 "metadata": {
  "kernelspec": {
   "display_name": "Python 3 (ipykernel)",
   "language": "python",
   "name": "python3"
  },
  "language_info": {
   "codemirror_mode": {
    "name": "ipython",
    "version": 3
   },
   "file_extension": ".py",
   "mimetype": "text/x-python",
   "name": "python",
   "nbconvert_exporter": "python",
   "pygments_lexer": "ipython3",
   "version": "3.9.7"
  }
 },
 "nbformat": 4,
 "nbformat_minor": 5
}

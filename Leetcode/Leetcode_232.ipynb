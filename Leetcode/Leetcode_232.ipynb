{
 "cells": [
  {
   "cell_type": "code",
   "execution_count": 6,
   "id": "a9df0407-3269-43b5-9a6c-971b7c23a85e",
   "metadata": {},
   "outputs": [],
   "source": [
    "class MyQueue:\n",
    "\n",
    "    def __init__(self):\n",
    "        self.Stack1 = [] # 기본 stack\n",
    "        self.Stack2 = []\n",
    "\n",
    "    def push(self, x: int) -> None:\n",
    "        self.Stack1.append(x)\n",
    "\n",
    "    def pop(self) -> int:\n",
    "        while self.Stack1:\n",
    "            self.Stack2.append(self.Stack1.pop())\n",
    "        \n",
    "        answer = self.Stack2.pop()\n",
    "        while self.Stack2:\n",
    "            self.Stack1.append(self.Stack2.pop())\n",
    "        \n",
    "        return answer\n",
    "    \n",
    "    def peek(self) -> int:\n",
    "        while self.Stack1:\n",
    "            self.Stack2.append(self.Stack1.pop())\n",
    "            \n",
    "        answer = self.Stack2[-1]\n",
    "        while self.Stack2:\n",
    "            self.Stack1.append(self.Stack2.pop())  \n",
    "        \n",
    "        return answer\n",
    "\n",
    "    def empty(self) -> bool:\n",
    "        return len(self.Stack1) == 0"
   ]
  },
  {
   "cell_type": "code",
   "execution_count": 7,
   "id": "45f22195-87e5-4647-9d8d-66c5dddcb69d",
   "metadata": {},
   "outputs": [
    {
     "data": {
      "text/plain": [
       "False"
      ]
     },
     "execution_count": 7,
     "metadata": {},
     "output_type": "execute_result"
    }
   ],
   "source": [
    "myQueue = MyQueue()\n",
    "myQueue.push(1)\n",
    "myQueue.push(2)\n",
    "myQueue.peek()\n",
    "myQueue.pop()\n",
    "myQueue.empty()"
   ]
  }
 ],
 "metadata": {
  "kernelspec": {
   "display_name": "Python 3 (ipykernel)",
   "language": "python",
   "name": "python3"
  },
  "language_info": {
   "codemirror_mode": {
    "name": "ipython",
    "version": 3
   },
   "file_extension": ".py",
   "mimetype": "text/x-python",
   "name": "python",
   "nbconvert_exporter": "python",
   "pygments_lexer": "ipython3",
   "version": "3.9.7"
  }
 },
 "nbformat": 4,
 "nbformat_minor": 5
}
